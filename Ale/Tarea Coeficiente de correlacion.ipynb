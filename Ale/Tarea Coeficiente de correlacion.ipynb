{
 "cells": [
  {
   "cell_type": "markdown",
   "metadata": {},
   "source": [
    "# Tarea"
   ]
  },
  {
   "cell_type": "markdown",
   "metadata": {},
   "source": [
    "Usando las fórmulas:\n",
    "$$\\Delta = n\\sum x^2-(\\sum x)^2$$\n",
    "\n",
    "El punto de intecepción del eje y:\n",
    "$$A= \\frac{\\sum x^2\\sum y -\\sum x \\sum xy}{\\Delta}$$\n",
    "\n",
    "La pendiente de la recta:\n",
    "$$B=\\frac{n\\sum xy -\\sum x \\sum y}{\\Delta}$$\n",
    "\n",
    "Ecuación de la recta:\n",
    "$$Y=A + Bx$$\n",
    "\n"
   ]
  },
  {
   "cell_type": "markdown",
   "metadata": {},
   "source": [
    "hacemos una función que te calcule la regresión lineal de algunos datos, y el error\n",
    "Con la fórmula del error como:\n",
    "$\\sqrt\\frac{\\sum{{y-y'}^2}}{n}$"
   ]
  },
  {
   "cell_type": "code",
   "execution_count": 2,
   "metadata": {},
   "outputs": [
    {
     "data": {
      "text/plain": [
       "reglin1 (generic function with 1 method)"
      ]
     },
     "execution_count": 2,
     "metadata": {},
     "output_type": "execute_result"
    }
   ],
   "source": [
    "function reglin1(x,y)\n",
    "    \n",
    "    \n",
    "    n=length(x)\n",
    "    delta = n*sum(x.^2)-(sum(x))^2\n",
    "    A=(sum(x.^2)*sum(y)-sum(x)*sum(x.*y))/delta\n",
    "    B=(n*sum(x.*y)-sum(x)*sum(y))/delta\n",
    "    \n",
    "    er = sqrt(sum((y-A-B*x).^2)/n)\n",
    "    return A, B, er\n",
    "end"
   ]
  },
  {
   "cell_type": "markdown",
   "metadata": {},
   "source": [
    "Ahora mejoramos nuestra función para que, al introducir una tercera variable de la forma true/false nos muestre el coeficiente de correlación \n",
    "$$\\rho(x,y)= \\frac{n\\sum{x y}-\\sum{x y}}{{\\sqrt{n\\sum{x^2}-{\\sum x}^2}{\\sqrt{n\\sum{y^2}-{\\sum y}^2}}}}$$"
   ]
  },
  {
   "cell_type": "code",
   "execution_count": 17,
   "metadata": {},
   "outputs": [
    {
     "data": {
      "text/plain": [
       "reglin2 (generic function with 1 method)"
      ]
     },
     "execution_count": 17,
     "metadata": {},
     "output_type": "execute_result"
    }
   ],
   "source": [
    "function reglin2(x,y,z)\n",
    "    \n",
    "    z::Bool\n",
    "    \n",
    "    n=length(x)\n",
    "    delta = n*sum(x.^2)-(sum(x))^2\n",
    "    deltay= n*sum(y.^2)-(sum(y))^2\n",
    "    deltaxy = n*sum(x.*y)-sum(x.*y)\n",
    "    A=(sum(x.^2)*sum(y)-sum(x)*sum(x.*y))/delta\n",
    "    B=(n*sum(x.*y)-sum(x)*sum(y))/delta\n",
    "    cc=deltaxy/(sqrt(delta)*(sqrt(deltay)))\n",
    "    er = sqrt(sum((y-A-B*x).^2)/n)\n",
    "    \n",
    "    if z==false\n",
    "    return A, B, er\n",
    "    else\n",
    "        return A,B,er,cc\n",
    "    end\n",
    "    \n",
    "end"
   ]
  },
  {
   "cell_type": "code",
   "execution_count": 8,
   "metadata": {},
   "outputs": [],
   "source": [
    "x=rand(1:20,50);"
   ]
  },
  {
   "cell_type": "code",
   "execution_count": 9,
   "metadata": {},
   "outputs": [],
   "source": [
    "y=4x+3\n",
    "ru=rand(length(y))*3.2\n",
    "yru=y+ru;"
   ]
  },
  {
   "cell_type": "code",
   "execution_count": 10,
   "metadata": {},
   "outputs": [
    {
     "data": {
      "text/plain": [
       "(4.9848909265774335, 3.965264468195657, 0.8894735700985291)"
      ]
     },
     "execution_count": 10,
     "metadata": {},
     "output_type": "execute_result"
    }
   ],
   "source": [
    "reglin1(x,yru)"
   ]
  },
  {
   "cell_type": "code",
   "execution_count": 11,
   "metadata": {},
   "outputs": [
    {
     "data": {
      "text/plain": [
       "(4.984890926577393, 3.965264468195661)"
      ]
     },
     "execution_count": 11,
     "metadata": {},
     "output_type": "execute_result"
    }
   ],
   "source": [
    "linreg(x,yru) #la de Julia"
   ]
  },
  {
   "cell_type": "code",
   "execution_count": 15,
   "metadata": {},
   "outputs": [
    {
     "data": {
      "text/plain": [
       "(4.9848909265774335, 3.965264468195657, 0.8894735700985291, 5.544113020458023)"
      ]
     },
     "execution_count": 15,
     "metadata": {},
     "output_type": "execute_result"
    }
   ],
   "source": [
    "reglin2(x,yru,true)"
   ]
  },
  {
   "cell_type": "code",
   "execution_count": 19,
   "metadata": {},
   "outputs": [
    {
     "data": {
      "text/plain": [
       "(4.9848909265774335, 3.965264468195657, 0.8894735700985291)"
      ]
     },
     "execution_count": 19,
     "metadata": {},
     "output_type": "execute_result"
    }
   ],
   "source": [
    "reglin2(x,yru,false)"
   ]
  },
  {
   "cell_type": "markdown",
   "metadata": {},
   "source": [
    "Ahora mejoramos la función para que al introducir una cuarta variable nos de un Plot de la regresión lineal"
   ]
  },
  {
   "cell_type": "code",
   "execution_count": null,
   "metadata": {
    "collapsed": true
   },
   "outputs": [],
   "source": [
    "function reglin(x,y,z,w)\n",
    "    \n",
    "    z::Bool\n",
    "    w::Bool\n",
    "    \n",
    "    n=length(x)\n",
    "    delta = n*sum(x.^2)-(sum(x))^2\n",
    "    deltay= n*sum(y.^2)-(sum(y))^2\n",
    "    deltaxy = n*sum(x.*y)-sum(x.*y)\n",
    "    A=(sum(x.^2)*sum(y)-sum(x)*sum(x.*y))/delta\n",
    "    B=(n*sum(x.*y)-sum(x)*sum(y))/delta\n",
    "    cc=deltaxy/(sqrt(delta)*(sqrt(deltay)))\n",
    "    er = sqrt(sum((y-A-B*x).^2)/n)\n",
    "    \n",
    "        if z==false\n",
    "            return A, B, er\n",
    "        else\n",
    "            return A,B,er,cc\n",
    "        end\n",
    "          \n",
    "        if w==true\n",
    "        plot()\n",
    "    \n",
    "end"
   ]
  }
 ],
 "metadata": {
  "kernelspec": {
   "display_name": "Julia 0.6.0",
   "language": "julia",
   "name": "julia-0.6"
  },
  "language_info": {
   "file_extension": ".jl",
   "mimetype": "application/julia",
   "name": "julia",
   "version": "0.6.0"
  }
 },
 "nbformat": 4,
 "nbformat_minor": 2
}
