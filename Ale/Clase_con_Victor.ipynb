{
 "cells": [
  {
   "cell_type": "markdown",
   "metadata": {},
   "source": [
    "# muajajajajaja\n"
   ]
  },
  {
   "cell_type": "code",
   "execution_count": 1,
   "metadata": {},
   "outputs": [
    {
     "data": {
      "text/plain": [
       "2"
      ]
     },
     "execution_count": 1,
     "metadata": {},
     "output_type": "execute_result"
    }
   ],
   "source": [
    "1+1\n"
   ]
  },
  {
   "cell_type": "code",
   "execution_count": 2,
   "metadata": {},
   "outputs": [
    {
     "data": {
      "text/plain": [
       "Gt0R (generic function with 1 method)"
      ]
     },
     "execution_count": 2,
     "metadata": {},
     "output_type": "execute_result"
    }
   ],
   "source": [
    "function Gt0R(x)\n",
    "    \n",
    "    R = x*(π/180)  \n",
    "end\n",
    "    \n",
    "#funcion para convertir de radianes a grados\n",
    "    "
   ]
  },
  {
   "cell_type": "code",
   "execution_count": 3,
   "metadata": {},
   "outputs": [
    {
     "data": {
      "text/plain": [
       "1.5707963267948966"
      ]
     },
     "execution_count": 3,
     "metadata": {},
     "output_type": "execute_result"
    }
   ],
   "source": [
    "Gt0R(90) # ejemplo para comrobar función"
   ]
  },
  {
   "cell_type": "code",
   "execution_count": 4,
   "metadata": {},
   "outputs": [
    {
     "data": {
      "text/plain": [
       "10-element Array{Int64,1}:\n",
       " 33\n",
       " 61\n",
       " 78\n",
       " 14\n",
       " 40\n",
       " 11\n",
       " 68\n",
       " 88\n",
       " 36\n",
       " 10"
      ]
     },
     "execution_count": 4,
     "metadata": {},
     "output_type": "execute_result"
    }
   ],
   "source": [
    "Y = rand(10:90,10)"
   ]
  },
  {
   "cell_type": "code",
   "execution_count": 7,
   "metadata": {},
   "outputs": [
    {
     "data": {
      "text/plain": [
       "10-element Array{Float64,1}:\n",
       " 0.575959\n",
       " 1.06465 \n",
       " 1.36136 \n",
       " 0.244346\n",
       " 0.698132\n",
       " 0.191986\n",
       " 1.18682 \n",
       " 1.53589 \n",
       " 0.628319\n",
       " 0.174533"
      ]
     },
     "execution_count": 7,
     "metadata": {},
     "output_type": "execute_result"
    }
   ],
   "source": [
    "YR=Gt0R(Y)"
   ]
  },
  {
   "cell_type": "code",
   "execution_count": 8,
   "metadata": {},
   "outputs": [
    {
     "data": {
      "text/plain": [
       "10-element Array{Float64,1}:\n",
       " 0.575959\n",
       " 1.06465 \n",
       " 1.36136 \n",
       " 0.244346\n",
       " 0.698132\n",
       " 0.191986\n",
       " 1.18682 \n",
       " 1.53589 \n",
       " 0.628319\n",
       " 0.174533"
      ]
     },
     "execution_count": 8,
     "metadata": {},
     "output_type": "execute_result"
    }
   ],
   "source": [
    "YR"
   ]
  },
  {
   "cell_type": "code",
   "execution_count": 9,
   "metadata": {},
   "outputs": [
    {
     "data": {
      "text/plain": [
       "11-element Array{Int64,1}:\n",
       "  0\n",
       "  1\n",
       "  2\n",
       "  3\n",
       "  4\n",
       "  5\n",
       "  6\n",
       "  7\n",
       "  8\n",
       "  9\n",
       " 10"
      ]
     },
     "execution_count": 9,
     "metadata": {},
     "output_type": "execute_result"
    }
   ],
   "source": [
    "Vec= collect(0:10)\n"
   ]
  },
  {
   "cell_type": "code",
   "execution_count": 14,
   "metadata": {},
   "outputs": [
    {
     "data": {
      "text/plain": [
       "13-element Array{Int64,1}:\n",
       "  0\n",
       "  1\n",
       "  2\n",
       "  3\n",
       "  4\n",
       "  5\n",
       "  6\n",
       "  7\n",
       "  8\n",
       "  9\n",
       " 10\n",
       "  5\n",
       "  5"
      ]
     },
     "execution_count": 14,
     "metadata": {},
     "output_type": "execute_result"
    }
   ],
   "source": [
    "append!(Vec,5)\n",
    "#también se puede usar push! y el \"!\" significa que camba a Vec por un nuevo Vec con un 5 al final"
   ]
  },
  {
   "cell_type": "code",
   "execution_count": 15,
   "metadata": {},
   "outputs": [
    {
     "data": {
      "text/plain": [
       "13-element Array{Int64,1}:\n",
       "  0\n",
       "  1\n",
       "  2\n",
       "  3\n",
       "  4\n",
       "  5\n",
       "  6\n",
       "  7\n",
       "  8\n",
       "  9\n",
       " 10\n",
       "  5\n",
       "  5"
      ]
     },
     "execution_count": 15,
     "metadata": {},
     "output_type": "execute_result"
    }
   ],
   "source": [
    "Vec"
   ]
  },
  {
   "cell_type": "code",
   "execution_count": 17,
   "metadata": {
    "collapsed": true
   },
   "outputs": [],
   "source": [
    "#investigar como quitar un término de un vector o no incluirlo en la operación. \n",
    "#y cómo seleccionar de 1:3 y de 5:8 por ejemplo."
   ]
  },
  {
   "cell_type": "code",
   "execution_count": 25,
   "metadata": {},
   "outputs": [
    {
     "data": {
      "text/plain": [
       "10-element Array{Int64,1}:\n",
       " 7\n",
       " 6\n",
       " 9\n",
       " 9\n",
       " 5\n",
       " 6\n",
       " 2\n",
       " 3\n",
       " 5\n",
       " 5"
      ]
     },
     "execution_count": 25,
     "metadata": {},
     "output_type": "execute_result"
    }
   ],
   "source": [
    "XX=rand(2:10,10)"
   ]
  },
  {
   "cell_type": "code",
   "execution_count": 22,
   "metadata": {},
   "outputs": [
    {
     "name": "stdout",
     "output_type": "stream",
     "text": [
      "4\n",
      "9\n",
      "16\n",
      "25\n",
      "36\n",
      "49\n",
      "64\n",
      "81\n",
      "100\n"
     ]
    }
   ],
   "source": [
    "for i in XX\n",
    "    println(i^2)\n",
    "end"
   ]
  },
  {
   "cell_type": "code",
   "execution_count": 23,
   "metadata": {},
   "outputs": [
    {
     "name": "stdout",
     "output_type": "stream",
     "text": [
      "soy i:2  soy i²:4\n",
      "soy i:3  soy i²:9\n",
      "soy i:4  soy i²:16\n",
      "soy i:5  soy i²:25\n",
      "soy i:6  soy i²:36\n",
      "soy i:7  soy i²:49\n",
      "soy i:8  soy i²:64\n",
      "soy i:9  soy i²:81\n",
      "soy i:10  soy i²:100\n"
     ]
    }
   ],
   "source": [
    "for i in XX\n",
    "    println(\"soy i:\",i, \"  \", \"soy i²:\", i^2)\n",
    "end"
   ]
  },
  {
   "cell_type": "code",
   "execution_count": 24,
   "metadata": {},
   "outputs": [
    {
     "name": "stdout",
     "output_type": "stream",
     "text": [
      "soy i:  1  soy Cua:  4\n",
      "soy i:  2  soy Cua:  9\n",
      "soy i:  3  soy Cua:  16\n",
      "soy i:  4  soy Cua:  25\n",
      "soy i:  5  soy Cua:  36\n",
      "soy i:  6  soy Cua:  49\n",
      "soy i:  7  soy Cua:  64\n",
      "soy i:  8  soy Cua:  81\n",
      "soy i:  9  soy Cua:  100\n"
     ]
    }
   ],
   "source": [
    "for i=1:length(XX)\n",
    "    Cua=XX[i]^2\n",
    "    println(\"soy i:  \", i,\"  \",\"soy Cua:  \",Cua)\n",
    "    \n",
    "end"
   ]
  },
  {
   "cell_type": "code",
   "execution_count": 26,
   "metadata": {},
   "outputs": [
    {
     "data": {
      "text/plain": [
       "10-element Array{Int64,1}:\n",
       "  8\n",
       "  7\n",
       "  5\n",
       "  7\n",
       "  5\n",
       "  9\n",
       " 10\n",
       "  3\n",
       "  8\n",
       "  6"
      ]
     },
     "execution_count": 26,
     "metadata": {},
     "output_type": "execute_result"
    }
   ],
   "source": [
    "XY=[8,7,5,7,5,9,10,3,8,6]"
   ]
  },
  {
   "cell_type": "code",
   "execution_count": 28,
   "metadata": {},
   "outputs": [
    {
     "ename": "LoadError",
     "evalue": "\u001b[91msyntax: unexpected \"=\"\u001b[39m",
     "output_type": "error",
     "traceback": [
      "\u001b[91msyntax: unexpected \"=\"\u001b[39m",
      "",
      "Stacktrace:",
      " [1] \u001b[1minclude_string\u001b[22m\u001b[22m\u001b[1m(\u001b[22m\u001b[22m::String, ::String\u001b[1m)\u001b[22m\u001b[22m at \u001b[1m./loading.jl:515\u001b[22m\u001b[22m"
     ]
    }
   ],
   "source": [
    "for i in XY\n",
    "    if i=5\n",
    "        println(i^2)\n",
    "        else\n",
    "        println(i)\n",
    "    end"
   ]
  },
  {
   "cell_type": "code",
   "execution_count": 29,
   "metadata": {},
   "outputs": [
    {
     "name": "stdout",
     "output_type": "stream",
     "text": [
      "search: \u001b[1mi\u001b[22m\u001b[1mf\u001b[22m \u001b[1mi\u001b[22m\u001b[1mf\u001b[22mft \u001b[1mi\u001b[22m\u001b[1mf\u001b[22mft! \u001b[1mi\u001b[22m\u001b[1mf\u001b[22melse \u001b[1mi\u001b[22m\u001b[1mf\u001b[22mftshift d\u001b[1mi\u001b[22m\u001b[1mf\u001b[22mf sh\u001b[1mi\u001b[22m\u001b[1mf\u001b[22mt! Un\u001b[1mi\u001b[22m\u001b[1mf\u001b[22mormScaling not\u001b[1mi\u001b[22m\u001b[1mf\u001b[22my else\u001b[1mi\u001b[22m\u001b[1mf\u001b[22m\n",
      "\n"
     ]
    },
    {
     "data": {
      "text/markdown": [
       "`if`-`elseif`-`else` performs conditional evaluation, which allows portions of code to be evaluated or not evaluated depending on the value of a boolean expression. Here is the anatomy of the `if`-`elseif`-`else` conditional syntax:\n",
       "\n",
       "```\n",
       "if x < y\n",
       "    println(\"x is less than y\")\n",
       "elseif x > y\n",
       "    println(\"x is greater than y\")\n",
       "else\n",
       "    println(\"x is equal to y\")\n",
       "end\n",
       "```\n",
       "\n",
       "If the condition expression `x < y` is true, then the corresponding block is evaluated; otherwise the condition expression `x > y` is evaluated, and if it is true, the corresponding block is evaluated; if neither expression is true, the `else` block is evaluated. The `elseif` and `else` blocks are optional, and as many `elseif` blocks as desired can be used.\n"
      ],
      "text/plain": [
       "`if`-`elseif`-`else` performs conditional evaluation, which allows portions of code to be evaluated or not evaluated depending on the value of a boolean expression. Here is the anatomy of the `if`-`elseif`-`else` conditional syntax:\n",
       "\n",
       "```\n",
       "if x < y\n",
       "    println(\"x is less than y\")\n",
       "elseif x > y\n",
       "    println(\"x is greater than y\")\n",
       "else\n",
       "    println(\"x is equal to y\")\n",
       "end\n",
       "```\n",
       "\n",
       "If the condition expression `x < y` is true, then the corresponding block is evaluated; otherwise the condition expression `x > y` is evaluated, and if it is true, the corresponding block is evaluated; if neither expression is true, the `else` block is evaluated. The `elseif` and `else` blocks are optional, and as many `elseif` blocks as desired can be used.\n"
      ]
     },
     "execution_count": 29,
     "metadata": {},
     "output_type": "execute_result"
    }
   ],
   "source": [
    "?if"
   ]
  },
  {
   "cell_type": "code",
   "execution_count": 42,
   "metadata": {},
   "outputs": [
    {
     "name": "stdout",
     "output_type": "stream",
     "text": [
      "soy i: 8  soy :8\n",
      "soy i: 7  soy :7\n",
      "soy i: 5  soy :25\n",
      "soy i: 7  soy :7\n",
      "soy i: 5  soy :25\n",
      "soy i: 9  soy :9\n",
      "soy i: 10  soy :10\n",
      "soy i: 3  soy :9\n",
      "soy i: 8  soy :8\n",
      "soy i: 6  soy :6\n"
     ]
    }
   ],
   "source": [
    "for i in XY\n",
    "    if XY[i] == 5\n",
    "    println(\"soy i: \", i, \"  \",\"soy :\",i^2)\n",
    "    \n",
    "    else\n",
    "    println(\"soy i: \",i, \"  \",\"soy :\",i)\n",
    "    end\n",
    "end"
   ]
  },
  {
   "cell_type": "code",
   "execution_count": 43,
   "metadata": {
    "collapsed": true
   },
   "outputs": [],
   "source": [
    "# tarea hacer lo mismo pero para sacar el cuadrado solo para los numeros pares\n",
    "#mod(numero,2)"
   ]
  },
  {
   "cell_type": "markdown",
   "metadata": {},
   "source": [
    "# 13 oct "
   ]
  },
  {
   "cell_type": "code",
   "execution_count": 6,
   "metadata": {},
   "outputs": [
    {
     "data": {
      "text/plain": [
       "20-element Array{Int64,1}:\n",
       " 14\n",
       " 17\n",
       " 10\n",
       "  4\n",
       "  1\n",
       " 20\n",
       "  4\n",
       " 11\n",
       " 17\n",
       "  9\n",
       "  4\n",
       " 16\n",
       "  7\n",
       " 11\n",
       "  7\n",
       " 17\n",
       "  2\n",
       " 18\n",
       "  5\n",
       " 12"
      ]
     },
     "execution_count": 6,
     "metadata": {},
     "output_type": "execute_result"
    }
   ],
   "source": [
    "list= collect(1:1:20)\n",
    "list2=rand(1:20,20)"
   ]
  },
  {
   "cell_type": "code",
   "execution_count": 9,
   "metadata": {},
   "outputs": [
    {
     "name": "stdout",
     "output_type": "stream",
     "text": [
      "soy i: 2  soy :4\n",
      "soy i: 4  soy :16\n",
      "soy i: 6  soy :36\n",
      "soy i: 8  soy :64\n",
      "soy i: 10  soy :100\n",
      "soy i: 12  soy :144\n",
      "soy i: 14  soy :196\n",
      "soy i: 16  soy :256\n",
      "soy i: 18  soy :324\n",
      "soy i: 20  soy :400\n"
     ]
    }
   ],
   "source": [
    "for i in list\n",
    "    if mod(i,2)==0\n",
    "            println(\"soy i: \", i, \"  \",\"soy :\",i^2)\n",
    "\n",
    "        \n",
    "    end\n",
    "end"
   ]
  },
  {
   "cell_type": "code",
   "execution_count": 10,
   "metadata": {},
   "outputs": [
    {
     "name": "stdout",
     "output_type": "stream",
     "text": [
      "soy i: 14  soy :196\n",
      "soy i: 10  soy :100\n",
      "soy i: 4  soy :16\n",
      "soy i: 20  soy :400\n",
      "soy i: 4  soy :16\n",
      "soy i: 4  soy :16\n",
      "soy i: 16  soy :256\n",
      "soy i: 2  soy :4\n",
      "soy i: 18  soy :324\n",
      "soy i: 12  soy :144\n"
     ]
    }
   ],
   "source": [
    "for i in list2\n",
    "    if mod(i,2)==0\n",
    "            println(\"soy i: \", i, \"  \",\"soy :\",i^2)\n",
    "\n",
    "        \n",
    "    end\n",
    "end"
   ]
  },
  {
   "cell_type": "code",
   "execution_count": 20,
   "metadata": {},
   "outputs": [
    {
     "name": "stdout",
     "output_type": "stream",
     "text": [
      "soy i:1        soy cuad:  196\n",
      "soy i:2        soy list:17\n",
      "soy i:3        soy cuad:  100\n",
      "soy i:4        soy cuad:  16\n",
      "soy i:5        soy list:1\n",
      "soy i:6        soy cuad:  400\n",
      "soy i:7        soy cuad:  16\n",
      "soy i:8        soy list:11\n",
      "soy i:9        soy list:17\n",
      "soy i:10        soy list:9\n",
      "soy i:11        soy cuad:  16\n",
      "soy i:12        soy cuad:  256\n",
      "soy i:13        soy list:7\n",
      "soy i:14        soy list:11\n",
      "soy i:15        soy list:7\n",
      "soy i:16        soy list:17\n",
      "soy i:17        soy cuad:  4\n",
      "soy i:18        soy cuad:  324\n",
      "soy i:19        soy list:5\n",
      "soy i:20        soy cuad:  144\n"
     ]
    }
   ],
   "source": [
    "for i=1:length(list2)\n",
    "    if mod(list2[i],2)==0\n",
    "        println(\"soy i:\",i, \"        \", \"soy cuad:  \" ,list2[i]^2) \n",
    "        \n",
    "    else\n",
    "        println(\"soy i:\", i, \"        \",\"soy list:\",list2[i])\n",
    "\n",
    "        \n",
    "    end\n",
    "end"
   ]
  },
  {
   "cell_type": "code",
   "execution_count": 21,
   "metadata": {},
   "outputs": [
    {
     "name": "stdout",
     "output_type": "stream",
     "text": [
      "soy i:1        soy list:14        soy cuad:  196\n",
      "soy i:3        soy list:10        soy cuad:  100\n",
      "soy i:4        soy list:4        soy cuad:  16\n",
      "soy i:6        soy list:20        soy cuad:  400\n",
      "soy i:7        soy list:4        soy cuad:  16\n",
      "soy i:11        soy list:4        soy cuad:  16\n",
      "soy i:12        soy list:16        soy cuad:  256\n",
      "soy i:17        soy list:2        soy cuad:  4\n",
      "soy i:18        soy list:18        soy cuad:  324\n",
      "soy i:20        soy list:12        soy cuad:  144\n"
     ]
    }
   ],
   "source": [
    "for i=1:length(list2)\n",
    "    if mod(list2[i],2)==0\n",
    "      \n",
    "        println(\"soy i:\", i, \"        \",\"soy list:\",list2[i],\"        \", \"soy cuad:  \" ,list2[i]^2)\n",
    "\n",
    "        \n",
    "    end\n",
    "end"
   ]
  },
  {
   "cell_type": "code",
   "execution_count": 22,
   "metadata": {},
   "outputs": [
    {
     "data": {
      "text/plain": [
       "10-element Array{Int64,1}:\n",
       " 52\n",
       " 52\n",
       " 59\n",
       " 55\n",
       " 53\n",
       " 59\n",
       " 58\n",
       " 56\n",
       " 59\n",
       " 59"
      ]
     },
     "execution_count": 22,
     "metadata": {},
     "output_type": "execute_result"
    }
   ],
   "source": [
    "list3=rand(50:60,10)"
   ]
  },
  {
   "cell_type": "code",
   "execution_count": 24,
   "metadata": {},
   "outputs": [
    {
     "name": "stdout",
     "output_type": "stream",
     "text": [
      "soy par:  52   soy cuad:  2704\n",
      "soy par:  52   soy cuad:  2704\n",
      "soy impar:59   soy cub :  205379\n",
      "soy impar:55   soy cub :  166375\n",
      "soy impar:53   soy cub :  148877\n",
      "soy impar:59   soy cub :  205379\n",
      "soy par:  58   soy cuad:  3364\n",
      "soy par:  56   soy cuad:  3136\n",
      "soy impar:59   soy cub :  205379\n",
      "soy impar:59   soy cub :  205379\n"
     ]
    }
   ],
   "source": [
    "for i in list3\n",
    "    if mod(i,2)== 0\n",
    "        println(\"soy par:  \",i, \"   \",\"soy cuad:  \", i^2)\n",
    "    else\n",
    "        println(\"soy impar:\",i, \"   \",\"soy cub :  \", i^3)\n",
    "    end\n",
    "end\n",
    "#podría poner <1, != 1, en vez de poner igual que 0"
   ]
  },
  {
   "cell_type": "code",
   "execution_count": 42,
   "metadata": {},
   "outputs": [
    {
     "name": "stdout",
     "output_type": "stream",
     "text": [
      "era: 18  ahora: 5\n",
      "era: 12  ahora: 5\n",
      "era: 12  ahora: 5\n",
      "era: 15  ahora: 15\n",
      "era: 14  ahora: 5\n",
      "era: 20  ahora: 5\n",
      "era: 17  ahora: 17\n",
      "era: 12  ahora: 5\n",
      "era: 18  ahora: 5\n",
      "era: 11  ahora: 11\n",
      "era: 13  ahora: 13\n",
      "era: 20  ahora: 5\n",
      "era: 14  ahora: 5\n",
      "era: 18  ahora: 5\n",
      "era: 18  ahora: 5\n",
      "era: 18  ahora: 5\n",
      "era: 16  ahora: 5\n",
      "era: 12  ahora: 5\n",
      "era: 14  ahora: 5\n",
      "era: 18  ahora: 5\n"
     ]
    }
   ],
   "source": [
    "\n",
    "for i=1:length(A)\n",
    "    if mod(A[i],2)==0\n",
    "        \n",
    "        println(\"era: \", A[i],\"  \", \"ahora: \",5)\n",
    "        A[i]=5\n",
    "     else \n",
    "        println(\"era: \", A[i],\"  \", \"ahora: \",A[i])\n",
    "    end\n",
    "    \n",
    "end"
   ]
  },
  {
   "cell_type": "code",
   "execution_count": 57,
   "metadata": {},
   "outputs": [
    {
     "data": {
      "text/plain": [
       "20-element Array{Int64,1}:\n",
       " 20\n",
       " 13\n",
       " 17\n",
       " 15\n",
       " 16\n",
       " 10\n",
       " 20\n",
       " 16\n",
       " 10\n",
       " 13\n",
       " 10\n",
       " 11\n",
       " 10\n",
       " 18\n",
       " 16\n",
       " 12\n",
       " 18\n",
       " 17\n",
       " 12\n",
       " 20"
      ]
     },
     "execution_count": 57,
     "metadata": {},
     "output_type": "execute_result"
    }
   ],
   "source": [
    "A=rand(10:20,20)\n"
   ]
  },
  {
   "cell_type": "code",
   "execution_count": 59,
   "metadata": {},
   "outputs": [
    {
     "data": {
      "text/plain": [
       "20-element Array{Int64,1}:\n",
       " 10\n",
       " 19\n",
       " 13\n",
       " 19\n",
       " 15\n",
       " 16\n",
       " 19\n",
       " 11\n",
       " 10\n",
       " 10\n",
       " 19\n",
       " 19\n",
       " 11\n",
       " 14\n",
       " 11\n",
       " 15\n",
       " 11\n",
       " 17\n",
       " 11\n",
       " 15"
      ]
     },
     "execution_count": 59,
     "metadata": {},
     "output_type": "execute_result"
    }
   ],
   "source": [
    "A2=rand(10:20,20)"
   ]
  },
  {
   "cell_type": "code",
   "execution_count": 61,
   "metadata": {},
   "outputs": [
    {
     "name": "stdout",
     "output_type": "stream",
     "text": [
      "era10  ahora5\n",
      "era19  ahora19\n",
      "era13  ahora13\n",
      "era19  ahora19\n",
      "era15  ahora15\n",
      "era16  ahora5\n",
      "era19  ahora19\n",
      "era11  ahora11\n",
      "era10  ahora5\n",
      "era10  ahora5\n",
      "era19  ahora19\n",
      "era19  ahora19\n",
      "era11  ahora11\n",
      "era14  ahora5\n",
      "era11  ahora11\n",
      "era15  ahora15\n",
      "era11  ahora11\n",
      "era17  ahora17\n",
      "era11  ahora11\n",
      "era15  ahora15\n"
     ]
    }
   ],
   "source": [
    "jj=1\n",
    "for i in A2\n",
    "    if mod(i,2)==0\n",
    "      \n",
    "        A2[jj]=5\n",
    "        println(\"era\",i, \"  \",\"ahora\",A2[jj])\n",
    "       \n",
    "    else\n",
    "        println(\"era\",i, \"  \",\"ahora\",i )\n",
    "    end\n",
    "  jj+=1\n",
    "end"
   ]
  },
  {
   "cell_type": "code",
   "execution_count": 62,
   "metadata": {},
   "outputs": [
    {
     "data": {
      "text/plain": [
       "20-element Array{Int64,1}:\n",
       "  5\n",
       " 19\n",
       " 13\n",
       " 19\n",
       " 15\n",
       "  5\n",
       " 19\n",
       " 11\n",
       "  5\n",
       "  5\n",
       " 19\n",
       " 19\n",
       " 11\n",
       "  5\n",
       " 11\n",
       " 15\n",
       " 11\n",
       " 17\n",
       " 11\n",
       " 15"
      ]
     },
     "execution_count": 62,
     "metadata": {},
     "output_type": "execute_result"
    }
   ],
   "source": [
    "A2"
   ]
  },
  {
   "cell_type": "code",
   "execution_count": 63,
   "metadata": {},
   "outputs": [
    {
     "data": {
      "text/plain": [
       "3×3 Array{Int64,2}:\n",
       " 20  15  13\n",
       " 13  16  19\n",
       " 16  17  17"
      ]
     },
     "execution_count": 63,
     "metadata": {},
     "output_type": "execute_result"
    }
   ],
   "source": [
    "#matriz de 3 por 3\n",
    "TheMatrix=rand(10:20,3,3)"
   ]
  },
  {
   "cell_type": "code",
   "execution_count": 65,
   "metadata": {},
   "outputs": [
    {
     "data": {
      "text/plain": [
       "15"
      ]
     },
     "execution_count": 65,
     "metadata": {},
     "output_type": "execute_result"
    }
   ],
   "source": [
    "TheMatrix[1,2] #extraer el elemento renglon, columna"
   ]
  },
  {
   "cell_type": "code",
   "execution_count": 68,
   "metadata": {},
   "outputs": [
    {
     "data": {
      "text/plain": [
       "10×10 Array{Int64,2}:\n",
       " 16  26  20  14  10  28  11  25  27  23\n",
       " 18  19  11  30  30  20  21  23  20  17\n",
       " 15  12  17  18  28  19  26  15  27  19\n",
       " 11  10  22  16  12  29  16  24  23  11\n",
       " 10  16  19  18  15  30  20  17  22  20\n",
       " 14  15  26  12  18  18  26  17  26  11\n",
       " 29  26  14  15  20  23  18  24  12  26\n",
       " 12  22  29  10  13  17  29  15  13  20\n",
       " 30  30  23  13  27  17  28  28  11  21\n",
       " 23  12  19  10  17  15  11  25  11  28"
      ]
     },
     "execution_count": 68,
     "metadata": {},
     "output_type": "execute_result"
    }
   ],
   "source": [
    "TheMatrix2=rand(10:30,10,10)"
   ]
  },
  {
   "cell_type": "code",
   "execution_count": 86,
   "metadata": {
    "collapsed": true
   },
   "outputs": [],
   "source": [
    "\n",
    "for i=1:length(TheMatrix2[:,1])\n",
    "    for j=1:length(TheMatrix2[1,:])\n",
    "        if mod(TheMatrix2[i,j],2)==0\n",
    "           # M=TheMatrix2[i,j]\n",
    "            TheMatrix2[i,j]=5\n",
    "        end\n",
    "        \n",
    "        if i==j\n",
    "            TheMatrix2[i,j]=100\n",
    "        end\n",
    "        \n",
    "    end\n",
    "end"
   ]
  },
  {
   "cell_type": "code",
   "execution_count": 87,
   "metadata": {},
   "outputs": [
    {
     "data": {
      "text/plain": [
       "10×10 Array{Int64,2}:\n",
       " 100    5    5    5    5    5   11   25   27   23\n",
       "   5  100   11    5    5    5   21   23    5   17\n",
       "  15    5  100    5    5   19    5   15   27   19\n",
       "  11    5    5  100    5   29    5    5   23   11\n",
       "   5    5   19    5  100    5    5   17    5    5\n",
       "   5   15    5    5    5  100    5   17    5   11\n",
       "  29    5    5   15    5   23  100    5    5    5\n",
       "   5    5   29    5   13   17   29  100   13    5\n",
       "   5    5   23   13   27   17    5    5  100   21\n",
       "  23    5   19    5   17   15   11   25   11  100"
      ]
     },
     "execution_count": 87,
     "metadata": {},
     "output_type": "execute_result"
    }
   ],
   "source": [
    "TheMatrix2"
   ]
  },
  {
   "cell_type": "markdown",
   "metadata": {},
   "source": [
    "## Arreglo de strings\n"
   ]
  },
  {
   "cell_type": "code",
   "execution_count": 90,
   "metadata": {
    "scrolled": true
   },
   "outputs": [
    {
     "data": {
      "text/plain": [
       "10×10 Array{String,2}:\n",
       " \"wierd\"  \"wierd\"  \"wierd\"  \"wierd\"  …  \"wierd\"  \"wierd\"  \"wierd\"  \"wierd\"\n",
       " \"wierd\"  \"wierd\"  \"wierd\"  \"wierd\"     \"wierd\"  \"wierd\"  \"wierd\"  \"wierd\"\n",
       " \"wierd\"  \"wierd\"  \"wierd\"  \"wierd\"     \"wierd\"  \"wierd\"  \"wierd\"  \"wierd\"\n",
       " \"wierd\"  \"wierd\"  \"wierd\"  \"wierd\"     \"wierd\"  \"wierd\"  \"wierd\"  \"wierd\"\n",
       " \"wierd\"  \"wierd\"  \"wierd\"  \"wierd\"     \"wierd\"  \"wierd\"  \"wierd\"  \"wierd\"\n",
       " \"wierd\"  \"wierd\"  \"wierd\"  \"wierd\"  …  \"wierd\"  \"wierd\"  \"wierd\"  \"wierd\"\n",
       " \"wierd\"  \"wierd\"  \"wierd\"  \"wierd\"     \"wierd\"  \"wierd\"  \"wierd\"  \"wierd\"\n",
       " \"wierd\"  \"wierd\"  \"wierd\"  \"wierd\"     \"wierd\"  \"wierd\"  \"wierd\"  \"wierd\"\n",
       " \"wierd\"  \"wierd\"  \"wierd\"  \"wierd\"     \"wierd\"  \"wierd\"  \"wierd\"  \"wierd\"\n",
       " \"wierd\"  \"wierd\"  \"wierd\"  \"wierd\"     \"wierd\"  \"wierd\"  \"wierd\"  \"wierd\""
      ]
     },
     "execution_count": 90,
     "metadata": {},
     "output_type": "execute_result"
    }
   ],
   "source": [
    "WHAAT=fill(\"wierd\", 10, 10)"
   ]
  },
  {
   "cell_type": "code",
   "execution_count": 96,
   "metadata": {},
   "outputs": [
    {
     "data": {
      "text/plain": [
       "Dict{String,VersionNumber} with 22 entries:\n",
       "  \"FFTW\"              => v\"0.0.4\"\n",
       "  \"AbstractFFTs\"      => v\"0.2.0\"\n",
       "  \"FixedPointNumbers\" => v\"0.4.1\"\n",
       "  \"Conda\"             => v\"0.7.0\"\n",
       "  \"SHA\"               => v\"0.5.1\"\n",
       "  \"DSP\"               => v\"0.3.2\"\n",
       "  \"PyCall\"            => v\"1.15.0\"\n",
       "  \"LaTeXStrings\"      => v\"0.2.1\"\n",
       "  \"ZMQ\"               => v\"0.4.3\"\n",
       "  \"JSON\"              => v\"0.14.0\"\n",
       "  \"ColorTypes\"        => v\"0.6.3\"\n",
       "  \"Compat\"            => v\"0.32.0\"\n",
       "  \"IJulia\"            => v\"1.6.1\"\n",
       "  \"PyPlot\"            => v\"2.3.2\"\n",
       "  \"Colors\"            => v\"0.8.1\"\n",
       "  \"Polynomials\"       => v\"0.1.6\"\n",
       "  \"MbedTLS\"           => v\"0.5.0\"\n",
       "  \"MacroTools\"        => v\"0.3.7\"\n",
       "  \"BinDeps\"           => v\"0.6.0\"\n",
       "  \"SpecialFunctions\"  => v\"0.3.3\"\n",
       "  \"Reexport\"          => v\"0.0.3\"\n",
       "  \"URIParser\"         => v\"0.2.0\""
      ]
     },
     "execution_count": 96,
     "metadata": {},
     "output_type": "execute_result"
    }
   ],
   "source": [
    "Pkg.installed()"
   ]
  },
  {
   "cell_type": "code",
   "execution_count": 97,
   "metadata": {},
   "outputs": [
    {
     "data": {
      "text/plain": [
       "10"
      ]
     },
     "execution_count": 97,
     "metadata": {},
     "output_type": "execute_result"
    }
   ],
   "source": [
    "β= 5\n",
    "α=10\n"
   ]
  },
  {
   "cell_type": "code",
   "execution_count": 98,
   "metadata": {},
   "outputs": [
    {
     "data": {
      "text/plain": [
       "15"
      ]
     },
     "execution_count": 98,
     "metadata": {},
     "output_type": "execute_result"
    }
   ],
   "source": [
    "α+β"
   ]
  },
  {
   "cell_type": "code",
   "execution_count": 3,
   "metadata": {},
   "outputs": [
    {
     "data": {
      "text/plain": [
       "10-element Array{Float64,1}:\n",
       " 0.330768 \n",
       " 0.137225 \n",
       " 0.0957241\n",
       " 0.403264 \n",
       " 0.539516 \n",
       " 0.368518 \n",
       " 0.208346 \n",
       " 0.987278 \n",
       " 0.356266 \n",
       " 0.761975 "
      ]
     },
     "execution_count": 3,
     "metadata": {},
     "output_type": "execute_result"
    }
   ],
   "source": [
    "yelp = rand(10)"
   ]
  },
  {
   "cell_type": "code",
   "execution_count": 4,
   "metadata": {},
   "outputs": [
    {
     "data": {
      "text/plain": [
       "0.4188879886138814"
      ]
     },
     "execution_count": 4,
     "metadata": {},
     "output_type": "execute_result"
    }
   ],
   "source": [
    "mean(yelp) #promedio"
   ]
  },
  {
   "cell_type": "code",
   "execution_count": 5,
   "metadata": {},
   "outputs": [
    {
     "data": {
      "text/plain": [
       "0.2784664870952287"
      ]
     },
     "execution_count": 5,
     "metadata": {},
     "output_type": "execute_result"
    }
   ],
   "source": [
    "std(yelp) #desviación estándar"
   ]
  },
  {
   "cell_type": "code",
   "execution_count": 7,
   "metadata": {},
   "outputs": [
    {
     "data": {
      "text/plain": [
       "av (generic function with 1 method)"
      ]
     },
     "execution_count": 7,
     "metadata": {},
     "output_type": "execute_result"
    }
   ],
   "source": [
    "function av(x)\n",
    "    su=0\n",
    "    for i=1:length(x)\n",
    "        su= su + x[i]\n",
    "        \n",
    "    end\n",
    "    avfinal= su/length(x)\n",
    "    \n",
    "end\n",
    "        \n",
    "        "
   ]
  },
  {
   "cell_type": "code",
   "execution_count": 14,
   "metadata": {},
   "outputs": [
    {
     "data": {
      "text/plain": [
       "0.4188879886138814"
      ]
     },
     "execution_count": 14,
     "metadata": {},
     "output_type": "execute_result"
    }
   ],
   "source": [
    "av(yelp)"
   ]
  },
  {
   "cell_type": "code",
   "execution_count": 106,
   "metadata": {
    "collapsed": true
   },
   "outputs": [],
   "source": [
    "#tarea función de desviación estándar \n",
    "#array?"
   ]
  },
  {
   "cell_type": "code",
   "execution_count": 8,
   "metadata": {},
   "outputs": [
    {
     "data": {
      "text/plain": [
       "de (generic function with 1 method)"
      ]
     },
     "execution_count": 8,
     "metadata": {},
     "output_type": "execute_result"
    }
   ],
   "source": [
    "function de(x)\n",
    "    su=0\n",
    "    for i=1:length(x)\n",
    "        su=(x[i]-av(x))^2+su\n",
    "    end\n",
    "    definal=sqrt(su/(length(x)-1))\n",
    "end"
   ]
  },
  {
   "cell_type": "code",
   "execution_count": 33,
   "metadata": {},
   "outputs": [
    {
     "data": {
      "text/plain": [
       "0.2784664870952287"
      ]
     },
     "execution_count": 33,
     "metadata": {},
     "output_type": "execute_result"
    }
   ],
   "source": [
    "de(yelp) #el método que usa std es dividir entre n-1 en vez de n (corrección de bessel)"
   ]
  },
  {
   "cell_type": "markdown",
   "metadata": {},
   "source": [
    "# 20 de octubre"
   ]
  },
  {
   "cell_type": "code",
   "execution_count": 9,
   "metadata": {},
   "outputs": [
    {
     "data": {
      "text/plain": [
       "DE (generic function with 1 method)"
      ]
     },
     "execution_count": 9,
     "metadata": {},
     "output_type": "execute_result"
    }
   ],
   "source": [
    "function DE(x)\n",
    "    pro=av(x)\n",
    "    su=0\n",
    "    for i=1:length(x)\n",
    "        su=(x[i]-pro)^2+su\n",
    "    end\n",
    "    definal=sqrt(su/(length(x)-1))\n",
    "end"
   ]
  },
  {
   "cell_type": "code",
   "execution_count": 12,
   "metadata": {},
   "outputs": [
    {
     "data": {
      "text/plain": [
       "ambas (generic function with 1 method)"
      ]
     },
     "execution_count": 12,
     "metadata": {},
     "output_type": "execute_result"
    }
   ],
   "source": [
    "function ambas(x)\n",
    "    su=0\n",
    "    for i=1:length(x)\n",
    "        su=(su+x[i])\n",
    "        \n",
    "    end\n",
    "    \n",
    "    ru=0\n",
    "    for i=1:length(x)\n",
    "        ru=(x[i]-(su/length(x)))^2+ru\n",
    "    end\n",
    "    \n",
    "    ambasfin= su/length(x), sqrt(ru/(length(x)-1))\n",
    "end\n",
    "    \n",
    "#ambas también se puede hacer antes el promedio para que no o tenga que hacer cada vez dentro de ru"
   ]
  },
  {
   "cell_type": "code",
   "execution_count": 4,
   "metadata": {},
   "outputs": [
    {
     "data": {
      "text/plain": [
       "10-element Array{Int64,1}:\n",
       "  6\n",
       "  8\n",
       "  1\n",
       "  9\n",
       "  8\n",
       "  3\n",
       "  6\n",
       " 10\n",
       " 10\n",
       "  5"
      ]
     },
     "execution_count": 4,
     "metadata": {},
     "output_type": "execute_result"
    }
   ],
   "source": [
    "list=rand(1:10,10)"
   ]
  },
  {
   "cell_type": "code",
   "execution_count": 5,
   "metadata": {},
   "outputs": [
    {
     "data": {
      "text/plain": [
       "(6.6, 2.988868236194653)"
      ]
     },
     "execution_count": 5,
     "metadata": {},
     "output_type": "execute_result"
    }
   ],
   "source": [
    "ambas(list)"
   ]
  },
  {
   "cell_type": "code",
   "execution_count": 10,
   "metadata": {},
   "outputs": [
    {
     "data": {
      "text/plain": [
       "6.6"
      ]
     },
     "execution_count": 10,
     "metadata": {},
     "output_type": "execute_result"
    }
   ],
   "source": [
    "av(list)"
   ]
  },
  {
   "cell_type": "code",
   "execution_count": 11,
   "metadata": {},
   "outputs": [
    {
     "data": {
      "text/plain": [
       "2.988868236194653"
      ]
     },
     "execution_count": 11,
     "metadata": {},
     "output_type": "execute_result"
    }
   ],
   "source": [
    "DE(list)"
   ]
  },
  {
   "cell_type": "markdown",
   "metadata": {},
   "source": [
    "#### Escribir ecuaciones como en Latex"
   ]
  },
  {
   "cell_type": "markdown",
   "metadata": {},
   "source": [
    "\n",
    "$σ= √{(\\frac{1}{N-1})∑(x_i- ̄{x})}$\n"
   ]
  },
  {
   "cell_type": "markdown",
   "metadata": {},
   "source": []
  },
  {
   "cell_type": "markdown",
   "metadata": {},
   "source": [
    "#### listas, arreglos Tuplas, etc."
   ]
  },
  {
   "cell_type": "code",
   "execution_count": 20,
   "metadata": {},
   "outputs": [
    {
     "data": {
      "text/plain": [
       "4-element Array{Int64,1}:\n",
       " 1\n",
       " 2\n",
       " 3\n",
       " 4"
      ]
     },
     "execution_count": 20,
     "metadata": {},
     "output_type": "execute_result"
    }
   ],
   "source": [
    "f=[1,2,3,4]"
   ]
  },
  {
   "cell_type": "code",
   "execution_count": 21,
   "metadata": {},
   "outputs": [
    {
     "data": {
      "text/plain": [
       "10"
      ]
     },
     "execution_count": 21,
     "metadata": {},
     "output_type": "execute_result"
    }
   ],
   "source": [
    "f[1]=10"
   ]
  },
  {
   "cell_type": "code",
   "execution_count": 22,
   "metadata": {},
   "outputs": [
    {
     "data": {
      "text/plain": [
       "4-element Array{Int64,1}:\n",
       " 10\n",
       "  2\n",
       "  3\n",
       "  4"
      ]
     },
     "execution_count": 22,
     "metadata": {},
     "output_type": "execute_result"
    }
   ],
   "source": [
    "f"
   ]
  },
  {
   "cell_type": "code",
   "execution_count": 23,
   "metadata": {},
   "outputs": [
    {
     "data": {
      "text/plain": [
       "(1, 2, 3, 4)"
      ]
     },
     "execution_count": 23,
     "metadata": {},
     "output_type": "execute_result"
    }
   ],
   "source": [
    "f1=(1,2,3,4)"
   ]
  },
  {
   "cell_type": "code",
   "execution_count": 24,
   "metadata": {},
   "outputs": [
    {
     "ename": "LoadError",
     "evalue": "\u001b[91mMethodError: no method matching setindex!(::NTuple{4,Int64}, ::Int64, ::Int64)\u001b[39m",
     "output_type": "error",
     "traceback": [
      "\u001b[91mMethodError: no method matching setindex!(::NTuple{4,Int64}, ::Int64, ::Int64)\u001b[39m",
      "",
      "Stacktrace:",
      " [1] \u001b[1minclude_string\u001b[22m\u001b[22m\u001b[1m(\u001b[22m\u001b[22m::String, ::String\u001b[1m)\u001b[22m\u001b[22m at \u001b[1m./loading.jl:515\u001b[22m\u001b[22m"
     ]
    }
   ],
   "source": [
    "f1[1]=10"
   ]
  },
  {
   "cell_type": "code",
   "execution_count": 25,
   "metadata": {},
   "outputs": [
    {
     "data": {
      "text/plain": [
       "NTuple{4,Int64}"
      ]
     },
     "execution_count": 25,
     "metadata": {},
     "output_type": "execute_result"
    }
   ],
   "source": [
    "typeof(f1)"
   ]
  },
  {
   "cell_type": "code",
   "execution_count": 26,
   "metadata": {},
   "outputs": [
    {
     "data": {
      "text/plain": [
       "(1, 2, \"Hola\", \"g\")"
      ]
     },
     "execution_count": 26,
     "metadata": {},
     "output_type": "execute_result"
    }
   ],
   "source": [
    "f3=(1,2,\"Hola\",\"g\")"
   ]
  },
  {
   "cell_type": "code",
   "execution_count": 27,
   "metadata": {},
   "outputs": [
    {
     "data": {
      "text/plain": [
       "Tuple{Int64,Int64,String,String}"
      ]
     },
     "execution_count": 27,
     "metadata": {},
     "output_type": "execute_result"
    }
   ],
   "source": [
    "typeof(f3)"
   ]
  },
  {
   "cell_type": "code",
   "execution_count": 28,
   "metadata": {},
   "outputs": [
    {
     "ename": "LoadError",
     "evalue": "\u001b[91mMethodError: no method matching setindex!(::Tuple{Int64,Int64,String,String}, ::String, ::Int64)\u001b[39m",
     "output_type": "error",
     "traceback": [
      "\u001b[91mMethodError: no method matching setindex!(::Tuple{Int64,Int64,String,String}, ::String, ::Int64)\u001b[39m",
      "",
      "Stacktrace:",
      " [1] \u001b[1minclude_string\u001b[22m\u001b[22m\u001b[1m(\u001b[22m\u001b[22m::String, ::String\u001b[1m)\u001b[22m\u001b[22m at \u001b[1m./loading.jl:515\u001b[22m\u001b[22m"
     ]
    }
   ],
   "source": [
    "f3[3]=\"hi\""
   ]
  },
  {
   "cell_type": "code",
   "execution_count": 29,
   "metadata": {},
   "outputs": [
    {
     "data": {
      "text/plain": [
       "4-element Array{Any,1}:\n",
       " 1      \n",
       " 2      \n",
       "  \"Hola\"\n",
       "  \"g\"   "
      ]
     },
     "execution_count": 29,
     "metadata": {},
     "output_type": "execute_result"
    }
   ],
   "source": [
    "f4=[1,2,\"Hola\",\"g\"]"
   ]
  },
  {
   "cell_type": "code",
   "execution_count": 30,
   "metadata": {},
   "outputs": [
    {
     "data": {
      "text/plain": [
       "\"hi\""
      ]
     },
     "execution_count": 30,
     "metadata": {},
     "output_type": "execute_result"
    }
   ],
   "source": [
    "f4[3]=\"hi\""
   ]
  },
  {
   "cell_type": "code",
   "execution_count": 31,
   "metadata": {
    "collapsed": true
   },
   "outputs": [],
   "source": [
    "#los tuplas son inamovibles... no se pueden modificar los elementos"
   ]
  },
  {
   "cell_type": "code",
   "execution_count": 33,
   "metadata": {},
   "outputs": [
    {
     "data": {
      "text/plain": [
       "(sin, cos)"
      ]
     },
     "execution_count": 33,
     "metadata": {},
     "output_type": "execute_result"
    }
   ],
   "source": [
    "# puedes hacer funciones con tuplas por ejemlo:\n",
    "tri=(sin, cos)"
   ]
  },
  {
   "cell_type": "code",
   "execution_count": 34,
   "metadata": {},
   "outputs": [
    {
     "data": {
      "text/plain": [
       "1.2246467991473532e-16"
      ]
     },
     "execution_count": 34,
     "metadata": {},
     "output_type": "execute_result"
    }
   ],
   "source": [
    "tri[1](π)"
   ]
  },
  {
   "cell_type": "code",
   "execution_count": 36,
   "metadata": {},
   "outputs": [
    {
     "data": {
      "text/plain": [
       "10-element Array{Float64,1}:\n",
       " 0.589546\n",
       " 0.498298\n",
       " 0.145778\n",
       " 0.211795\n",
       " 0.910516\n",
       " 0.513871\n",
       " 0.812807\n",
       " 0.138726\n",
       " 0.676685\n",
       " 0.181786"
      ]
     },
     "execution_count": 36,
     "metadata": {},
     "output_type": "execute_result"
    }
   ],
   "source": [
    "g=rand(10)"
   ]
  },
  {
   "cell_type": "code",
   "execution_count": 40,
   "metadata": {},
   "outputs": [
    {
     "data": {
      "text/plain": [
       "10-element Array{Int64,1}:\n",
       "  3\n",
       "  5\n",
       " 15\n",
       "  2\n",
       " 13\n",
       " 14\n",
       "  5\n",
       " 13\n",
       "  2\n",
       "  2"
      ]
     },
     "execution_count": 40,
     "metadata": {},
     "output_type": "execute_result"
    }
   ],
   "source": [
    "h=rand(1:19,10)"
   ]
  },
  {
   "cell_type": "code",
   "execution_count": 41,
   "metadata": {},
   "outputs": [
    {
     "data": {
      "text/plain": [
       "10×2 Array{Float64,2}:\n",
       " 0.589546   3.0\n",
       " 0.498298   5.0\n",
       " 0.145778  15.0\n",
       " 0.211795   2.0\n",
       " 0.910516  13.0\n",
       " 0.513871  14.0\n",
       " 0.812807   5.0\n",
       " 0.138726  13.0\n",
       " 0.676685   2.0\n",
       " 0.181786   2.0"
      ]
     },
     "execution_count": 41,
     "metadata": {},
     "output_type": "execute_result"
    }
   ],
   "source": [
    "matrix=hcat(g,h)"
   ]
  },
  {
   "cell_type": "code",
   "execution_count": 42,
   "metadata": {
    "collapsed": true
   },
   "outputs": [],
   "source": [
    "writedlm(\"matrizejemplo.txt\", matrix)"
   ]
  },
  {
   "cell_type": "code",
   "execution_count": 43,
   "metadata": {},
   "outputs": [
    {
     "data": {
      "text/plain": [
       "10×2 Array{Float64,2}:\n",
       " 0.589546   3.0\n",
       " 0.498298   5.0\n",
       " 0.145778  15.0\n",
       " 0.211795   2.0\n",
       " 0.910516  13.0\n",
       " 0.513871  14.0\n",
       " 0.812807   5.0\n",
       " 0.138726  13.0\n",
       " 0.676685   2.0\n",
       " 0.181786   2.0"
      ]
     },
     "execution_count": 43,
     "metadata": {},
     "output_type": "execute_result"
    }
   ],
   "source": [
    "variable= readdlm(\"matrizejemplo.txt\")"
   ]
  },
  {
   "cell_type": "code",
   "execution_count": 47,
   "metadata": {},
   "outputs": [
    {
     "data": {
      "text/plain": [
       "20×3 Array{Int64,2}:\n",
       "  1  10  30\n",
       "  2   7  38\n",
       "  3  10  40\n",
       "  4  10  36\n",
       "  5   8  30\n",
       "  6   8  36\n",
       "  7   5  31\n",
       "  8  10  30\n",
       "  9   7  35\n",
       " 10   6  32\n",
       " 11   6  35\n",
       " 12   9  34\n",
       " 13   9  37\n",
       " 14   6  36\n",
       " 15   5  31\n",
       " 16   8  34\n",
       " 17   5  40\n",
       " 18   9  40\n",
       " 19  10  36\n",
       " 20  10  38"
      ]
     },
     "execution_count": 47,
     "metadata": {},
     "output_type": "execute_result"
    }
   ],
   "source": [
    "TheM=hcat(1:20,rand(5:10,20),rand(30:40,20))\n"
   ]
  },
  {
   "cell_type": "code",
   "execution_count": 48,
   "metadata": {
    "collapsed": true
   },
   "outputs": [],
   "source": [
    "writedlm(\"The_Matrix\", TheM)"
   ]
  },
  {
   "cell_type": "code",
   "execution_count": 51,
   "metadata": {
    "collapsed": true
   },
   "outputs": [],
   "source": [
    "workspace()"
   ]
  },
  {
   "cell_type": "code",
   "execution_count": 61,
   "metadata": {},
   "outputs": [
    {
     "data": {
      "text/plain": [
       "20×3 Array{Float64,2}:\n",
       "  1.0  10.0  30.0\n",
       "  2.0   7.0  38.0\n",
       "  3.0  10.0  40.0\n",
       "  4.0  10.0  36.0\n",
       "  5.0   8.0  30.0\n",
       "  6.0   8.0  36.0\n",
       "  7.0   5.0  31.0\n",
       "  8.0  10.0  30.0\n",
       "  9.0   7.0  35.0\n",
       " 10.0   6.0  32.0\n",
       " 11.0   6.0  35.0\n",
       " 12.0   9.0  34.0\n",
       " 13.0   9.0  37.0\n",
       " 14.0   6.0  36.0\n",
       " 15.0   5.0  31.0\n",
       " 16.0   8.0  34.0\n",
       " 17.0   5.0  40.0\n",
       " 18.0   9.0  40.0\n",
       " 19.0  10.0  36.0\n",
       " 20.0  10.0  38.0"
      ]
     },
     "execution_count": 61,
     "metadata": {},
     "output_type": "execute_result"
    }
   ],
   "source": [
    "dat= readdlm(\"The_Matrix\")"
   ]
  },
  {
   "cell_type": "code",
   "execution_count": 53,
   "metadata": {
    "collapsed": true
   },
   "outputs": [],
   "source": [
    "#read carga todo el archivo de una vez, se puede en vez usar fin= open(\"...\") para abrir linea por linea"
   ]
  },
  {
   "cell_type": "code",
   "execution_count": 58,
   "metadata": {
    "collapsed": true
   },
   "outputs": [],
   "source": [
    "workspace()"
   ]
  },
  {
   "cell_type": "code",
   "execution_count": 59,
   "metadata": {
    "scrolled": true
   },
   "outputs": [
    {
     "name": "stderr",
     "output_type": "stream",
     "text": [
      "WARNING: Method definition include_string(Module, String, String) in module Compat at /home/taller/.julia/v0.6/Compat/src/Compat.jl:464 overwritten in module Compat at /home/taller/.julia/v0.6/Compat/src/Compat.jl:464.\n",
      "WARNING: Method definition include_string(Module, AbstractString) in module Compat at /home/taller/.julia/v0.6/Compat/src/Compat.jl:466 overwritten in module Compat at /home/taller/.julia/v0.6/Compat/src/Compat.jl:466.\n",
      "WARNING: Method definition include_string(Module, AbstractString, AbstractString) in module Compat at /home/taller/.julia/v0.6/Compat/src/Compat.jl:466 overwritten in module Compat at /home/taller/.julia/v0.6/Compat/src/Compat.jl:466.\n",
      "WARNING: Method definition rtoldefault(Any, Any, Real) in module Compat at /home/taller/.julia/v0.6/Compat/src/Compat.jl:653 overwritten in module Compat at /home/taller/.julia/v0.6/Compat/src/Compat.jl:653.\n",
      "WARNING: Method definition eltype(Main.Base.Cmd) in module Compat at /home/taller/.julia/v0.6/Compat/src/Compat.jl:496 overwritten in module Compat at /home/taller/.julia/v0.6/Compat/src/Compat.jl:496.\n",
      "WARNING: Method definition macroexpand(Module, ANY) in module Compat at /home/taller/.julia/v0.6/Compat/src/Compat.jl:463 overwritten in module Compat at /home/taller/.julia/v0.6/Compat/src/Compat.jl:463.\n",
      "WARNING: Method definition #cov(Array{Any, 1}, typeof(Main.Base.cov), AbstractArray{T, 1} where T) in module Compat at /home/taller/.julia/v0.6/Compat/src/Compat.jl:603 overwritten in module Compat at /home/taller/.julia/v0.6/Compat/src/Compat.jl:603.\n",
      "WARNING: Method definition #cov(Array{Any, 1}, typeof(Main.Base.cov), AbstractArray{T, 1} where T, AbstractArray{T, 1} where T) in module Compat at /home/taller/.julia/v0.6/Compat/src/Compat.jl:604 overwritten in module Compat at /home/taller/.julia/v0.6/Compat/src/Compat.jl:604.\n",
      "WARNING: Method definition #cov(Array{Any, 1}, typeof(Main.Base.cov), AbstractArray{T, 2} where T, Int64) in module Compat at /home/taller/.julia/v0.6/Compat/src/Compat.jl:607 overwritten in module Compat at /home/taller/.julia/v0.6/Compat/src/Compat.jl:607.\n",
      "WARNING: Method definition #cov(Array{Any, 1}, typeof(Main.Base.cov), Union{AbstractArray{T, 1}, AbstractArray{T, 2}} where T, Union{AbstractArray{T, 1}, AbstractArray{T, 2}} where T, Int64) in module Compat at /home/taller/.julia/v0.6/Compat/src/Compat.jl:609 overwritten in module Compat at /home/taller/.julia/v0.6/Compat/src/Compat.jl:609.\n",
      "WARNING: Method definition start(Main.Base.Cmd) in module Compat at /home/taller/.julia/v0.6/Compat/src/Compat.jl:496 overwritten in module Compat at /home/taller/.julia/v0.6/Compat/src/Compat.jl:496.\n",
      "WARNING: Method definition next(Main.Base.Cmd, Any) in module Compat at /home/taller/.julia/v0.6/Compat/src/Compat.jl:499 overwritten in module Compat at /home/taller/.julia/v0.6/Compat/src/Compat.jl:499.\n",
      "WARNING: Method definition last(Main.Base.Cmd) in module Compat at /home/taller/.julia/v0.6/Compat/src/Compat.jl:496 overwritten in module Compat at /home/taller/.julia/v0.6/Compat/src/Compat.jl:496.\n",
      "WARNING: Method definition getindex(Main.Base.Cmd, Any) in module Compat at /home/taller/.julia/v0.6/Compat/src/Compat.jl:499 overwritten in module Compat at /home/taller/.julia/v0.6/Compat/src/Compat.jl:499.\n",
      "WARNING: Method definition expand(Module, ANY) in module Compat at /home/taller/.julia/v0.6/Compat/src/Compat.jl:462 overwritten in module Compat at /home/taller/.julia/v0.6/Compat/src/Compat.jl:462.\n",
      "WARNING: Method definition eachindex(Main.Base.Cmd) in module Compat at /home/taller/.julia/v0.6/Compat/src/Compat.jl:496 overwritten in module Compat at /home/taller/.julia/v0.6/Compat/src/Compat.jl:496.\n",
      "WARNING: Method definition first(Main.Base.Cmd) in module Compat at /home/taller/.julia/v0.6/Compat/src/Compat.jl:496 overwritten in module Compat at /home/taller/.julia/v0.6/Compat/src/Compat.jl:496.\n",
      "WARNING: Method definition endof(Main.Base.Cmd) in module Compat at /home/taller/.julia/v0.6/Compat/src/Compat.jl:496 overwritten in module Compat at /home/taller/.julia/v0.6/Compat/src/Compat.jl:496.\n",
      "WARNING: Method definition length(Main.Base.Cmd) in module Compat at /home/taller/.julia/v0.6/Compat/src/Compat.jl:496 overwritten in module Compat at /home/taller/.julia/v0.6/Compat/src/Compat.jl:496.\n",
      "WARNING: Method definition read(Main.Base.Cmd, Type{String}) in module Compat at /home/taller/.julia/v0.6/Compat/src/Compat.jl:566 overwritten in module Compat at /home/taller/.julia/v0.6/Compat/src/Compat.jl:566.\n",
      "WARNING: Method definition read(AbstractString, Type{String}) in module Compat at /home/taller/.julia/v0.6/Compat/src/Compat.jl:565 overwritten in module Compat at /home/taller/.julia/v0.6/Compat/src/Compat.jl:565.\n",
      "WARNING: Method definition read(IO, Type{String}) in module Compat at /home/taller/.julia/v0.6/Compat/src/Compat.jl:564 overwritten in module Compat at /home/taller/.julia/v0.6/Compat/src/Compat.jl:564.\n",
      "WARNING: Method definition ntuple(F, Main.Base.Val{N}) in module Compat at /home/taller/.julia/v0.6/Compat/src/Compat.jl:525 overwritten in module Compat at /home/taller/.julia/v0.6/Compat/src/Compat.jl:525.\n",
      "WARNING: Method definition logdet(Any) in module Compat at /home/taller/.julia/v0.6/Compat/src/Compat.jl:531 overwritten in module Compat at /home/taller/.julia/v0.6/Compat/src/Compat.jl:531.\n",
      "WARNING: Method definition chol(Main.Base.LinAlg.UniformScaling{T} where T<:Number, Any...) in module Compat at /home/taller/.julia/v0.6/Compat/src/Compat.jl:538 overwritten in module Compat at /home/taller/.julia/v0.6/Compat/src/Compat.jl:538.\n",
      "WARNING: Method definition chol!(Main.Base.LinAlg.UniformScaling{T} where T<:Number, Any) in module Compat at /home/taller/.julia/v0.6/Compat/src/Compat.jl:537 overwritten in module Compat at /home/taller/.julia/v0.6/Compat/src/Compat.jl:537.\n",
      "WARNING: Method definition done(Main.Base.Cmd, Any) in module Compat at /home/taller/.julia/v0.6/Compat/src/Compat.jl:499 overwritten in module Compat at /home/taller/.julia/v0.6/Compat/src/Compat.jl:499.\n",
      "WARNING: Method definition reshape(AbstractArray{T, N} where N where T, Main.Base.Val{N}) in module Compat at /home/taller/.julia/v0.6/Compat/src/Compat.jl:523 overwritten in module Compat at /home/taller/.julia/v0.6/Compat/src/Compat.jl:523.\n",
      "WARNING: Method definition (::Type{DomainError})(Any) in module Compat at /home/taller/.julia/v0.6/Compat/src/Compat.jl:576 overwritten in module Compat at /home/taller/.julia/v0.6/Compat/src/Compat.jl:576.\n",
      "WARNING: Method definition (::Type{DomainError})(Any, Any) in module Compat at /home/taller/.julia/v0.6/Compat/src/Compat.jl:577 overwritten in module Compat at /home/taller/.julia/v0.6/Compat/src/Compat.jl:577.\n",
      "WARNING: Method definition (::Type{OverflowError})(Any) in module Compat at /home/taller/.julia/v0.6/Compat/src/Compat.jl:582 overwritten in module Compat at /home/taller/.julia/v0.6/Compat/src/Compat.jl:582.\n",
      "WARNING: Method definition (::Type{InexactError})(Symbol, Any, Any) in module Compat at /home/taller/.julia/v0.6/Compat/src/Compat.jl:571 overwritten in module Compat at /home/taller/.julia/v0.6/Compat/src/Compat.jl:571.\n",
      "WARNING: Method definition (::Type{Main.Base.Val{T} where T})(Any) in module Compat at /home/taller/.julia/v0.6/Compat/src/Compat.jl:520 overwritten in module Compat at /home/taller/.julia/v0.6/Compat/src/Compat.jl:520.\n",
      "WARNING: Method definition run(Function) in module BinDeps at /home/taller/.julia/v0.6/BinDeps/src/BinDeps.jl:476 overwritten in module BinDeps at /home/taller/.julia/v0.6/BinDeps/src/BinDeps.jl:476.\n",
      "WARNING: Method definition #fill(Array{Any, 1}, typeof(Main.Base.fill), AbstractArray{T, N} where N where T, AbstractArray{T, N} where N where T, Any...) in module PyPlot overwritten in module PyPlot.\n",
      "WARNING: Method definition close() in module PyPlot at /home/taller/.julia/v0.6/PyPlot/src/PyPlot.jl:186 overwritten in module PyPlot at /home/taller/.julia/v0.6/PyPlot/src/PyPlot.jl:186.\n",
      "WARNING: Method definition close(Integer) in module PyPlot at /home/taller/.julia/v0.6/PyPlot/src/PyPlot.jl:182 overwritten in module PyPlot at /home/taller/.julia/v0.6/PyPlot/src/PyPlot.jl:182.\n",
      "WARNING: Method definition close(Union{AbstractString, Symbol}) in module PyPlot at /home/taller/.julia/v0.6/PyPlot/src/PyPlot.jl:185 overwritten in module PyPlot at /home/taller/.julia/v0.6/PyPlot/src/PyPlot.jl:185.\n",
      "WARNING: Method definition connect(Union{AbstractString, Symbol}, Function) in module PyPlot at /home/taller/.julia/v0.6/PyPlot/src/PyPlot.jl:188 overwritten in module PyPlot at /home/taller/.julia/v0.6/PyPlot/src/PyPlot.jl:188.\n",
      "WARNING: Method definition fill(AbstractArray{T, N} where N where T, AbstractArray{T, N} where N where T, Any...) in module PyPlot at /home/taller/.julia/v0.6/PyPlot/src/PyPlot.jl:190 overwritten in module PyPlot at /home/taller/.julia/v0.6/PyPlot/src/PyPlot.jl:190.\n",
      "WARNING: Method definition show() in module PyPlot at /home/taller/.julia/v0.6/PyPlot/src/PyPlot.jl:178 overwritten in module PyPlot at /home/taller/.julia/v0.6/PyPlot/src/PyPlot.jl:178.\n",
      "WARNING: Method definition step(Any, Any) in module PyPlot at /home/taller/.julia/v0.6/PyPlot/src/PyPlot.jl:176 overwritten in module PyPlot at /home/taller/.julia/v0.6/PyPlot/src/PyPlot.jl:176.\n",
      "WARNING: Method definition #step(Array{Any, 1}, typeof(Main.Base.step), Any, Any) in module PyPlot overwritten in module PyPlot.\n"
     ]
    }
   ],
   "source": [
    "using PyPlot\n"
   ]
  },
  {
   "cell_type": "code",
   "execution_count": 76,
   "metadata": {},
   "outputs": [
    {
     "data": {
      "text/plain": [
       "PyObject <matplotlib.legend.Legend object at 0x7fb35a49af10>"
      ]
     },
     "execution_count": 76,
     "metadata": {},
     "output_type": "execute_result"
    }
   ],
   "source": [
    "\n",
    "pygui(true)\n",
    "plot(dat[:,1],dat[:,2],\"-r\", label=\"red\")\n",
    "plot(dat[:,1],dat[:,3], \"-b\", label=\"blue\")\n",
    "legend()"
   ]
  },
  {
   "cell_type": "markdown",
   "metadata": {
    "collapsed": true
   },
   "source": [
    "# 27 de octubre clase con Datos"
   ]
  },
  {
   "cell_type": "code",
   "execution_count": 8,
   "metadata": {},
   "outputs": [
    {
     "data": {
      "text/plain": [
       "9753×1 Array{Any,2}:\n",
       " \"2015,5,1,10,50,0,1.28\"    \n",
       " \"2015,5,1,11,50,0,1.27\"    \n",
       " \"2015,5,1,12,50,0,1.14\"    \n",
       " \"2015,5,1,13,50,0,1.17\"    \n",
       " \"2015,5,1,14,50,0,1.25\"    \n",
       " \"2015,5,1,15,50,0,1.2\"     \n",
       " \"2015,5,1,16,50,0,1.1\"     \n",
       " \"2015,5,1,17,50,0,1.15\"    \n",
       " \"2015,5,1,18,50,0,1\"       \n",
       " \"2015,5,1,19,50,0,1.05\"    \n",
       " \"2015,5,1,20,50,0,0.98\"    \n",
       " \"2015,5,1,21,50,0,0.96\"    \n",
       " \"2015,5,1,22,50,0,0.93\"    \n",
       " ⋮                          \n",
       " \"2016,6,10,7,50,0,0.86667\" \n",
       " \"2016,6,10,8,50,0,0.89667\" \n",
       " \"2016,6,10,9,50,0,0.88333\" \n",
       " \"2016,6,10,10,50,0,0.89667\"\n",
       " \"2016,6,10,11,50,0,0.89333\"\n",
       " \"2016,6,10,12,50,0,0.95833\"\n",
       " \"2016,6,10,13,50,0,0.94\"   \n",
       " \"2016,6,10,14,50,0,0.89333\"\n",
       " \"2016,6,10,15,50,0,0.91333\"\n",
       " \"2016,6,10,16,50,0,0.925\"  \n",
       " \"2016,6,10,17,50,0,0.9\"    \n",
       " \"2016,6,10,18,50,0,0.90667\""
      ]
     },
     "execution_count": 8,
     "metadata": {},
     "output_type": "execute_result"
    }
   ],
   "source": [
    "Data = readdlm(\"Wave.txt\")"
   ]
  },
  {
   "cell_type": "code",
   "execution_count": 10,
   "metadata": {},
   "outputs": [
    {
     "name": "stderr",
     "output_type": "stream",
     "text": [
      "\u001b[1m\u001b[36mINFO: \u001b[39m\u001b[22m\u001b[36mCloning cache of DataArrays from https://github.com/JuliaStats/DataArrays.jl.git\n",
      "\u001b[39m\u001b[1m\u001b[36mINFO: \u001b[39m\u001b[22m\u001b[36mCloning cache of DataFrames from https://github.com/JuliaData/DataFrames.jl.git\n",
      "\u001b[39m\u001b[1m\u001b[36mINFO: \u001b[39m\u001b[22m\u001b[36mCloning cache of DataStructures from https://github.com/JuliaCollections/DataStructures.jl.git\n",
      "\u001b[39m\u001b[1m\u001b[36mINFO: \u001b[39m\u001b[22m\u001b[36mCloning cache of FileIO from https://github.com/JuliaIO/FileIO.jl.git\n",
      "\u001b[39m\u001b[1m\u001b[36mINFO: \u001b[39m\u001b[22m\u001b[36mCloning cache of GZip from https://github.com/JuliaIO/GZip.jl.git\n",
      "\u001b[39m\u001b[1m\u001b[36mINFO: \u001b[39m\u001b[22m\u001b[36mCloning cache of SortingAlgorithms from https://github.com/JuliaCollections/SortingAlgorithms.jl.git\n",
      "\u001b[39m\u001b[1m\u001b[36mINFO: \u001b[39m\u001b[22m\u001b[36mCloning cache of StatsBase from https://github.com/JuliaStats/StatsBase.jl.git\n",
      "\u001b[39m\u001b[1m\u001b[36mINFO: \u001b[39m\u001b[22m\u001b[36mInstalling DataArrays v0.6.2\n",
      "\u001b[39m\u001b[1m\u001b[36mINFO: \u001b[39m\u001b[22m\u001b[36mInstalling DataFrames v0.10.1\n",
      "\u001b[39m\u001b[1m\u001b[36mINFO: \u001b[39m\u001b[22m\u001b[36mInstalling DataStructures v0.7.2\n",
      "\u001b[39m\u001b[1m\u001b[36mINFO: \u001b[39m\u001b[22m\u001b[36mInstalling FileIO v0.5.2\n",
      "\u001b[39m\u001b[1m\u001b[36mINFO: \u001b[39m\u001b[22m\u001b[36mInstalling GZip v0.3.0\n",
      "\u001b[39m\u001b[1m\u001b[36mINFO: \u001b[39m\u001b[22m\u001b[36mInstalling SortingAlgorithms v0.1.1\n",
      "\u001b[39m\u001b[1m\u001b[36mINFO: \u001b[39m\u001b[22m\u001b[36mInstalling StatsBase v0.19.0\n",
      "\u001b[39m\u001b[1m\u001b[36mINFO: \u001b[39m\u001b[22m\u001b[36mBuilding SpecialFunctions\n",
      "\u001b[39m\u001b[1m\u001b[36mINFO: \u001b[39m\u001b[22m\u001b[36mPackage database updated\n",
      "\u001b[39m\u001b[1m\u001b[36mINFO: \u001b[39m\u001b[22m\u001b[36mMETADATA is out-of-date — you may not have the latest version of DataFrames\n",
      "\u001b[39m\u001b[1m\u001b[36mINFO: \u001b[39m\u001b[22m\u001b[36mUse `Pkg.update()` to get the latest versions of your packages\n",
      "\u001b[39m"
     ]
    }
   ],
   "source": [
    "Pkg.add(\"DataFrames\")"
   ]
  },
  {
   "cell_type": "code",
   "execution_count": 15,
   "metadata": {},
   "outputs": [
    {
     "name": "stderr",
     "output_type": "stream",
     "text": [
      "\u001b[1m\u001b[36mINFO: \u001b[39m\u001b[22m\u001b[36mPrecompiling module DataFrames.\n",
      "\u001b[39m"
     ]
    }
   ],
   "source": [
    "using DataFrames"
   ]
  },
  {
   "cell_type": "code",
   "execution_count": 33,
   "metadata": {},
   "outputs": [
    {
     "data": {
      "text/plain": [
       "20-element Array{Int64,1}:\n",
       "  8\n",
       " 10\n",
       " 10\n",
       "  6\n",
       "  7\n",
       "  5\n",
       "  9\n",
       "  7\n",
       "  5\n",
       " 10\n",
       "  7\n",
       "  8\n",
       "  7\n",
       "  7\n",
       "  6\n",
       "  7\n",
       "  6\n",
       "  8\n",
       "  7\n",
       "  9"
      ]
     },
     "execution_count": 33,
     "metadata": {},
     "output_type": "execute_result"
    }
   ],
   "source": [
    "x = rand(5:10,20)"
   ]
  },
  {
   "cell_type": "code",
   "execution_count": 31,
   "metadata": {},
   "outputs": [
    {
     "name": "stdout",
     "output_type": "stream",
     "text": [
      "valor:5   cuadrado:25\n",
      "valor:8   cuadrado:64\n",
      "valor:8   cuadrado:64\n",
      "valor:6   cuadrado:36\n",
      "valor:9   cuadrado:81\n",
      "valor:9   cuadrado:81\n",
      "valor:5   cuadrado:25\n",
      "valor:5   cuadrado:25\n",
      "valor:5   cuadrado:25\n",
      "valor:9   cuadrado:81\n",
      "valor:5   no cuadr:5\n",
      "valor:10   no cuadr:10\n",
      "valor:6   no cuadr:6\n",
      "valor:5   no cuadr:5\n",
      "valor:9   no cuadr:9\n",
      "valor:8   no cuadr:8\n",
      "valor:5   no cuadr:5\n",
      "valor:7   no cuadr:7\n",
      "valor:6   no cuadr:6\n",
      "valor:6   no cuadr:6\n"
     ]
    }
   ],
   "source": [
    "for i=1:length(x)\n",
    "    \n",
    "    if i<= 10\n",
    "        \n",
    "        println(\"valor:\",x[i],\"   \", \"cuadrado:\", (x[i])^2)\n",
    "    \n",
    "    \n",
    "    else\n",
    "\n",
    "        println(\"valor:\",x[i],\"   \", \"no cuadr:\", (x[i]))\n",
    "    end\n",
    "end"
   ]
  },
  {
   "cell_type": "code",
   "execution_count": 28,
   "metadata": {
    "collapsed": true
   },
   "outputs": [],
   "source": [
    "##cuando usas while la longitud de tu condición puede ser un flotante pero si lo usas directo en el for no se puede"
   ]
  },
  {
   "cell_type": "code",
   "execution_count": 35,
   "metadata": {},
   "outputs": [
    {
     "name": "stdout",
     "output_type": "stream",
     "text": [
      "valor:8   cuadrado:64\n",
      "valor:10   cuadrado:100\n",
      "valor:10   cuadrado:100\n",
      "valor:6   cuadrado:36\n",
      "valor:7   cuadrado:49\n",
      "valor:5   cuadrado:25\n",
      "valor:9   cuadrado:81\n",
      "valor:7   cuadrado:49\n",
      "valor:5   cuadrado:25\n",
      "valor:10   cuadrado:100\n"
     ]
    }
   ],
   "source": [
    "i=1\n",
    "while i<= length(x)/2\n",
    "    \n",
    "    println(\"valor:\", x[i], \"   \", \"cuadrado:\", (x[i])^2)\n",
    "    i+=1   # es lo mismo q poner i=i+1\n",
    "    \n",
    "end"
   ]
  },
  {
   "cell_type": "code",
   "execution_count": 36,
   "metadata": {
    "collapsed": true
   },
   "outputs": [],
   "source": [
    "#Ahora vamos a hacer ajustes lineales y mínimos cuadrados"
   ]
  },
  {
   "cell_type": "code",
   "execution_count": 37,
   "metadata": {
    "collapsed": true
   },
   "outputs": [],
   "source": [
    "using PyPlot"
   ]
  },
  {
   "cell_type": "code",
   "execution_count": 1,
   "metadata": {},
   "outputs": [],
   "source": [
    "X= collect(1:1:50); #de uno en uno hasta 50"
   ]
  },
  {
   "cell_type": "code",
   "execution_count": 63,
   "metadata": {},
   "outputs": [
    {
     "data": {
      "text/plain": [
       "50-element Array{Float64,1}:\n",
       "   4.40223\n",
       "   9.17903\n",
       "  13.6234 \n",
       "  13.6611 \n",
       "  21.654  \n",
       "  16.1094 \n",
       "  11.0278 \n",
       "  20.7464 \n",
       "  23.2306 \n",
       "  27.3544 \n",
       "  23.757  \n",
       "  20.0422 \n",
       "  33.6387 \n",
       "   ⋮      \n",
       "  75.7329 \n",
       "  83.3252 \n",
       "  89.6783 \n",
       "  86.5214 \n",
       "  94.7302 \n",
       "  98.8839 \n",
       "  88.7809 \n",
       "  96.837  \n",
       "  98.9653 \n",
       " 110.735  \n",
       " 101.571  \n",
       " 108.253  "
      ]
     },
     "execution_count": 63,
     "metadata": {},
     "output_type": "execute_result"
    }
   ],
   "source": [
    "y=2*X +5\n",
    "rui=randn(length(y))*4.5 #ruidoo aleatorio\n",
    "yru=y+rui"
   ]
  },
  {
   "cell_type": "code",
   "execution_count": 45,
   "metadata": {},
   "outputs": [
    {
     "data": {
      "image/png": "[encoded data removed]",
      "text/plain": [
       "PyPlot.Figure(PyObject <matplotlib.figure.Figure object at 0x7fb0471df7d0>)"
      ]
     },
     "metadata": {},
     "output_type": "display_data"
    },
    {
     "data": {
      "text/plain": [
       "PyObject <matplotlib.text.Text object at 0x7fb0471e7790>"
      ]
     },
     "execution_count": 45,
     "metadata": {},
     "output_type": "execute_result"
    }
   ],
   "source": [
    "plot(X,yru,\"o\")\n",
    "xlabel(\"X\")\n",
    "ylabel(\"y\")\n",
    "title(\"Line\")"
   ]
  },
  {
   "cell_type": "code",
   "execution_count": 46,
   "metadata": {
    "collapsed": true
   },
   "outputs": [],
   "source": [
    "#Parámetros de la recta"
   ]
  },
  {
   "cell_type": "code",
   "execution_count": 75,
   "metadata": {
    "scrolled": true
   },
   "outputs": [
    {
     "data": {
      "text/plain": [
       "(4.957654407783394, 2.024360399362986)"
      ]
     },
     "execution_count": 75,
     "metadata": {},
     "output_type": "execute_result"
    }
   ],
   "source": [
    "a,b = linreg(X,yru)"
   ]
  },
  {
   "cell_type": "code",
   "execution_count": 89,
   "metadata": {
    "scrolled": true
   },
   "outputs": [
    {
     "data": {
      "text/plain": [
       "50-element Array{Float64,1}:\n",
       "   6.98201\n",
       "   9.00638\n",
       "  11.0307 \n",
       "  13.0551 \n",
       "  15.0795 \n",
       "  17.1038 \n",
       "  19.1282 \n",
       "  21.1525 \n",
       "  23.1769 \n",
       "  25.2013 \n",
       "  27.2256 \n",
       "  29.25   \n",
       "  31.2743 \n",
       "   ⋮      \n",
       "  83.9077 \n",
       "  85.9321 \n",
       "  87.9564 \n",
       "  89.9808 \n",
       "  92.0052 \n",
       "  94.0295 \n",
       "  96.0539 \n",
       "  98.0782 \n",
       " 100.103  \n",
       " 102.127  \n",
       " 104.151  \n",
       " 106.176  "
      ]
     },
     "execution_count": 89,
     "metadata": {},
     "output_type": "execute_result"
    }
   ],
   "source": [
    "yes = a + b*X"
   ]
  },
  {
   "cell_type": "code",
   "execution_count": 95,
   "metadata": {},
   "outputs": [
    {
     "data": {
      "text/plain": [
       "4.678391381325334"
      ]
     },
     "execution_count": 95,
     "metadata": {},
     "output_type": "execute_result"
    }
   ],
   "source": [
    "er = sqrt(sum((yru-yes).^2)/length(yru))"
   ]
  },
  {
   "cell_type": "code",
   "execution_count": 102,
   "metadata": {},
   "outputs": [
    {
     "data": {
      "image/png": "[encoded data removed]",
      "text/plain": [
       "PyPlot.Figure(PyObject <matplotlib.figure.Figure object at 0x7fb0468a5050>)"
      ]
     },
     "metadata": {},
     "output_type": "display_data"
    },
    {
     "data": {
      "text/plain": [
       "(PyObject <matplotlib.lines.Line2D object at 0x7fb0467d6710>, (), (PyObject <matplotlib.collections.LineCollection object at 0x7fb0467e2250>,))"
      ]
     },
     "execution_count": 102,
     "metadata": {},
     "output_type": "execute_result"
    }
   ],
   "source": [
    "plot(X,yru,\"ro\")\n",
    "xlabel(\"X\")\n",
    "ylabel(\"y\")\n",
    "title(\"Line\")\n",
    "plot(X, yes, \"k--\")\n",
    "plot(X,y,\"b-\")\n",
    "errorbar(X,yes, er) #error calculado en imput 59"
   ]
  },
  {
   "cell_type": "code",
   "execution_count": 90,
   "metadata": {},
   "outputs": [
    {
     "data": {
      "text/plain": [
       "6.2803698347351005e-15"
      ]
     },
     "execution_count": 90,
     "metadata": {},
     "output_type": "execute_result"
    }
   ],
   "source": []
  },
  {
   "cell_type": "code",
   "execution_count": 100,
   "metadata": {},
   "outputs": [
    {
     "data": {
      "text/plain": [
       "reglin (generic function with 1 method)"
      ]
     },
     "execution_count": 100,
     "metadata": {},
     "output_type": "execute_result"
    }
   ],
   "source": [
    "function reglin(x,y)\n",
    "    \n",
    "    \n",
    "    n=length(x)\n",
    "    delta = n*sum(x.^2)-(sum(x))^2\n",
    "    A=(sum(x.^2)*sum(y)-sum(x)*sum(x.*y))/delta\n",
    "    B=(n*sum(x.*y)-sum(x)*sum(y))/delta\n",
    "    \n",
    "    er = sqrt(sum((y-A-B*x).^2)/n)\n",
    "    return A, B, er\n",
    "end"
   ]
  },
  {
   "cell_type": "code",
   "execution_count": 101,
   "metadata": {},
   "outputs": [
    {
     "data": {
      "text/plain": [
       "(4.9576544077834015, 2.024360399362986, 4.678391381325334)"
      ]
     },
     "execution_count": 101,
     "metadata": {},
     "output_type": "execute_result"
    }
   ],
   "source": [
    "reglin(X,yru)"
   ]
  },
  {
   "cell_type": "code",
   "execution_count": 104,
   "metadata": {
    "collapsed": true
   },
   "outputs": [],
   "source": [
    "#tarea meter coeficiente de correlación a nuestra función reglin\n",
    "#hacerlo más formal"
   ]
  },
  {
   "cell_type": "code",
   "execution_count": null,
   "metadata": {
    "collapsed": true
   },
   "outputs": [],
   "source": []
  }
 ],
 "metadata": {
  "kernelspec": {
   "display_name": "Julia 0.6.0",
   "language": "julia",
   "name": "julia-0.6"
  },
  "language_info": {
   "file_extension": ".jl",
   "mimetype": "application/julia",
   "name": "julia",
   "version": "0.6.0"
  }
 },
 "nbformat": 4,
 "nbformat_minor": 2
}
