{
 "cells": [
  {
   "cell_type": "markdown",
   "metadata": {},
   "source": [
    "# Tarea"
   ]
  },
  {
   "cell_type": "markdown",
   "metadata": {},
   "source": [
    "Usando las fórmulas:\n",
    "$$\\Delta = n\\sum x^2-(\\sum x)^2$$\n",
    "\n",
    "El punto de intecepción del eje y:\n",
    "$$A= \\frac{\\sum x^2\\sum y -\\sum x \\sum xy}{\\Delta}$$\n",
    "\n",
    "La pendiente de la recta:\n",
    "$$B=\\frac{n\\sum xy -\\sum x \\sum y}{\\Delta}$$\n",
    "\n",
    "Ecuación de la recta:\n",
    "$$Y=A + Bx$$\n",
    "\n"
   ]
  },
  {
   "cell_type": "markdown",
   "metadata": {},
   "source": [
    "hacemos una función que te calcule la regresión lineal de algunos datos, y el error\n",
    "Con la fórmula del error como:\n",
    "$\\sqrt\\frac{\\sum{{y-y'}^2}}{n}$"
   ]
  },
  {
   "cell_type": "code",
   "execution_count": 3,
   "metadata": {},
   "outputs": [
    {
     "data": {
      "text/plain": [
       "reglin1 (generic function with 1 method)"
      ]
     },
     "execution_count": 3,
     "metadata": {},
     "output_type": "execute_result"
    }
   ],
   "source": [
    "function reglin1(x,y)\n",
    "    \n",
    "    \n",
    "    n=length(x)\n",
    "    delta = n*sum(x.^2)-(sum(x))^2\n",
    "    A=(sum(x.^2)*sum(y)-sum(x)*sum(x.*y))/delta\n",
    "    B=(n*sum(x.*y)-sum(x)*sum(y))/delta\n",
    "    \n",
    "    er = sqrt(sum((y-A-B*x).^2)/n)\n",
    "    return A, B, er\n",
    "end"
   ]
  },
  {
   "cell_type": "markdown",
   "metadata": {},
   "source": [
    "Ahora mejoramos nuestra función para que, al introducir una tercera variable de la forma true/false nos muestre el coeficiente de correlación \n",
    "$$R^2(x,y)= \\frac{\\sum{(x_i-\\bar{x})(y_i-\\bar{y})}}{\\sqrt{\\sum{(x_i-\\bar{x})^2}\\sum{(y_i-\\bar{y})^2}}}$$"
   ]
  },
  {
   "cell_type": "code",
   "execution_count": 17,
   "metadata": {},
   "outputs": [
    {
     "data": {
      "text/plain": [
       "reglin2 (generic function with 1 method)"
      ]
     },
     "execution_count": 17,
     "metadata": {},
     "output_type": "execute_result"
    }
   ],
   "source": [
    "function reglin2(x,y,z)\n",
    "    \n",
    "    z::Bool\n",
    "    \n",
    "    n=length(x)\n",
    "    delta = n*sum(x.^2)-(sum(x))^2\n",
    "    xprom=sum(x)/n\n",
    "    yprom=sum(y)/n\n",
    "    xp=x-xprom\n",
    "    yp=y-yprom\n",
    "    xyl=sum(xp.*yp)\n",
    "    xc=sum(xp.^2)\n",
    "    yc=sum(yp.^2)\n",
    "    A=(sum(x.^2)*sum(y)-sum(x)*sum(x.*y))/delta\n",
    "    B=(n*sum(x.*y)-sum(x)*sum(y))/delta\n",
    "    cc=xyl/(sqrt(xc*yc))\n",
    "    er = sqrt(sum((y-A-B*x).^2)/n)\n",
    "    \n",
    "    if z==false\n",
    "    return A, B, er\n",
    "    else\n",
    "        return A,B,er,cc\n",
    "    end\n",
    "    \n",
    "end"
   ]
  },
  {
   "cell_type": "code",
   "execution_count": 4,
   "metadata": {
    "collapsed": true
   },
   "outputs": [],
   "source": [
    "x=rand(1:20,50);"
   ]
  },
  {
   "cell_type": "code",
   "execution_count": 5,
   "metadata": {
    "collapsed": true
   },
   "outputs": [],
   "source": [
    "y=4x+3\n",
    "ru=rand(length(y))*3.2\n",
    "yru=y+ru;"
   ]
  },
  {
   "cell_type": "code",
   "execution_count": 6,
   "metadata": {},
   "outputs": [
    {
     "data": {
      "text/plain": [
       "(5.091754117970588, 3.9622568169293597, 0.9410028877867148)"
      ]
     },
     "execution_count": 6,
     "metadata": {},
     "output_type": "execute_result"
    }
   ],
   "source": [
    "reglin1(x,yru)"
   ]
  },
  {
   "cell_type": "code",
   "execution_count": 7,
   "metadata": {},
   "outputs": [
    {
     "data": {
      "text/plain": [
       "(5.091754117970595, 3.962256816929359)"
      ]
     },
     "execution_count": 7,
     "metadata": {},
     "output_type": "execute_result"
    }
   ],
   "source": [
    "linreg(x,yru) #la de Julia"
   ]
  },
  {
   "cell_type": "code",
   "execution_count": 18,
   "metadata": {},
   "outputs": [
    {
     "data": {
      "text/plain": [
       "(5.091754117970588, 3.9622568169293597, 0.9410028877867148, 0.9992533908901)"
      ]
     },
     "execution_count": 18,
     "metadata": {},
     "output_type": "execute_result"
    }
   ],
   "source": [
    "reglin2(x,yru,true)"
   ]
  },
  {
   "cell_type": "code",
   "execution_count": 19,
   "metadata": {},
   "outputs": [
    {
     "data": {
      "text/plain": [
       "(5.091754117970588, 3.9622568169293597, 0.9410028877867148)"
      ]
     },
     "execution_count": 19,
     "metadata": {},
     "output_type": "execute_result"
    }
   ],
   "source": [
    "reglin2(x,yru,false)"
   ]
  },
  {
   "cell_type": "markdown",
   "metadata": {},
   "source": [
    "Ahora mejoramos la función para que al introducir una cuarta variable nos de un Plot de la regresión lineal"
   ]
  },
  {
   "cell_type": "code",
   "execution_count": 28,
   "metadata": {},
   "outputs": [
    {
     "ename": "LoadError",
     "evalue": "\u001b[91msyntax: unexpected ,\u001b[39m",
     "output_type": "error",
     "traceback": [
      "\u001b[91msyntax: unexpected ,\u001b[39m",
      "",
      "Stacktrace:",
      " [1] \u001b[1minclude_string\u001b[22m\u001b[22m\u001b[1m(\u001b[22m\u001b[22m::String, ::String\u001b[1m)\u001b[22m\u001b[22m at \u001b[1m./loading.jl:515\u001b[22m\u001b[22m"
     ]
    }
   ],
   "source": [
    "function reglin(x,y,z,w)\n",
    "    \n",
    "    z::Bool\n",
    "    w::Bool\n",
    "    \n",
    "    n=length(x)\n",
    "    delta = n*sum(x.^2)-(sum(x))^2\n",
    "    xprom=sum(x)/n\n",
    "    yprom=sum(y)/n\n",
    "    xp=x-xprom\n",
    "    yp=y-yprom\n",
    "    xyl=sum(xp.*yp)\n",
    "    xc=sum(xp.^2)\n",
    "    yc=sum(yp.^2)\n",
    "    A=(sum(x.^2)*sum(y)-sum(x)*sum(x.*y))/delta\n",
    "    B=(n*sum(x.*y)-sum(x)*sum(y))/delta\n",
    "    cc=xyl/(sqrt(xc*yc))\n",
    "    er = sqrt(sum((y-A-B*x).^2)/n)\n",
    "    \n",
    "    if z,w==false,false \n",
    "    return A, B, er\n",
    "   \n",
    "    end\n",
    "    \n",
    "    #if w==true\n",
    "       # plot(x,y,\"ro\")\n",
    "        #xlabel(\"X\")\n",
    "        #ylabel(\"Y\")\n",
    "        #title(\"RegreLin\")\n",
    "        #plot(x, A+B*x, \"k--\")\n",
    "        #errorbar(x,A+B*x, er)\n",
    "    #end\n",
    "    \n",
    "    \n",
    "end"
   ]
  },
  {
   "cell_type": "code",
   "execution_count": 29,
   "metadata": {},
   "outputs": [
    {
     "data": {
      "text/plain": [
       "(5.091754117970588, 3.9622568169293597, 0.9410028877867148)"
      ]
     },
     "execution_count": 29,
     "metadata": {},
     "output_type": "execute_result"
    }
   ],
   "source": [
    "reglin(x,yru,false,false)"
   ]
  },
  {
   "cell_type": "code",
   "execution_count": null,
   "metadata": {
    "collapsed": true
   },
   "outputs": [],
   "source": [
    "plot(x,yru)"
   ]
  }
 ],
 "metadata": {
  "kernelspec": {
   "display_name": "Julia 0.6.0",
   "language": "julia",
   "name": "julia-0.6"
  },
  "language_info": {
   "file_extension": ".jl",
   "mimetype": "application/julia",
   "name": "julia",
   "version": "0.6.0"
  }
 },
 "nbformat": 4,
 "nbformat_minor": 2
}
