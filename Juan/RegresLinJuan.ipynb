{
 "cells": [
  {
   "cell_type": "code",
   "execution_count": 5,
   "metadata": {},
   "outputs": [
    {
     "data": {
      "text/plain": [
       "4023×7 Array{Any,2}:\n",
       "    \"LON\"    \"LAT\"     \"H\"   \"M\"  \"FECHA\"       \"HORA\"      \"\"    \n",
       " -93.39    14.23     12     4.7   \"29/12/1991\"  \"05:29:56\"  \"p.m.\"\n",
       " -95.36    15.63      5     4.4   \"29/12/1991\"  \"03:25:55\"  \"p.m.\"\n",
       " -93.22    14.04      1     4.7   \"28/12/1991\"  \"12:17:07\"  \"p.m.\"\n",
       " -94.34    17.01     97     4.4   \"26/12/1991\"  \"08:14:29\"  \"p.m.\"\n",
       " -93.96    14.94     15     4.3   \"21/12/1991\"  \"10:18:40\"  \"p.m.\"\n",
       " -98.05    15.87     32     3.8   \"21/12/1991\"  \"01:45:07\"  \"a.m.\"\n",
       " -95.77    15.47     16     4.6   \"19/12/1991\"  \"11:11:46\"  \"p.m.\"\n",
       " -94.97    17.42    124     4.9   \"19/12/1991\"  \"06:49:22\"  \"p.m.\"\n",
       " -97.97    15.49     14     4.1   \"16/12/1991\"  \"09:09:02\"  \"p.m.\"\n",
       " -93.84    16.88    128     4.5   \"16/12/1991\"  \"05:05:42\"  \"a.m.\"\n",
       " -94.08    14.81     13     4.2   \"15/12/1991\"  \"02:51:41\"  \"p.m.\"\n",
       " -93.7     17.62    146     4.5   \"15/12/1991\"  \"12:38:12\"  \"a.m.\"\n",
       "   ⋮                                            ⋮                 \n",
       " -93.98    15.67     62     4.3   \"14/01/1999\"  \"01:16:16\"  \"a.m.\"\n",
       " -97.18    16.1       6     4.5   \"12/01/1999\"  \"08:14:08\"  \"p.m.\"\n",
       " -93.61    14.3      13     4.7   \"12/01/1999\"  \"06:10:00\"  \"p.m.\"\n",
       " -93.57    14.47     22     4.5   \"12/01/1999\"  \"10:22:16\"  \"a.m.\"\n",
       " -93.19    16.03    145     4.2   \"10/01/1999\"  \"11:02:27\"  \"p.m.\"\n",
       " -96.1     17.28     25     3.7   \"09/01/1999\"  \"03:31:00\"  \"a.m.\"\n",
       " -94.34    16.89    129     4.1   \"07/01/1999\"  \"08:49:54\"  \"p.m.\"\n",
       " -98.95    15.96     18     4.4   \"07/01/1999\"  \"06:31:09\"  \"p.m.\"\n",
       " -94.73    17.37    165     4.1   \"06/01/1999\"  \"01:52:28\"  \"a.m.\"\n",
       " -96.05    15.75      3     4.3   \"03/01/1999\"  \"11:50:39\"  \"a.m.\"\n",
       " -97.76    16.35     70     4.1   \"02/01/1999\"  \"05:34:58\"  \"a.m.\"\n",
       " -97.66    15.9      16     3.7   \"01/01/1999\"  \"04:39:07\"  \"a.m.\""
      ]
     },
     "execution_count": 5,
     "metadata": {},
     "output_type": "execute_result"
    }
   ],
   "source": [
    "sis=readdlm(\"sismo-90-99.txt\")"
   ]
  },
  {
   "cell_type": "code",
   "execution_count": 9,
   "metadata": {},
   "outputs": [
    {
     "data": {
      "text/plain": [
       "4023"
      ]
     },
     "execution_count": 9,
     "metadata": {},
     "output_type": "execute_result"
    }
   ],
   "source": [
    "length(sis[:,1])"
   ]
  },
  {
   "cell_type": "code",
   "execution_count": 12,
   "metadata": {
    "collapsed": true
   },
   "outputs": [],
   "source": [
    "#readdlm(); readcsv(); readtable()\n",
    "\n",
    "#Instalar graxxxxxx\n",
    "#Distributions\n",
    "#GRL\n",
    "\n",
    "\n",
    "#Las funciones son muy eficientes"
   ]
  },
  {
   "cell_type": "code",
   "execution_count": 1,
   "metadata": {},
   "outputs": [
    {
     "data": {
      "text/plain": [
       "20-element Array{Int64,1}:\n",
       "  9\n",
       "  5\n",
       "  5\n",
       " 10\n",
       "  7\n",
       "  6\n",
       "  5\n",
       "  5\n",
       "  7\n",
       "  7\n",
       "  7\n",
       "  5\n",
       "  9\n",
       "  6\n",
       "  7\n",
       "  7\n",
       "  9\n",
       "  5\n",
       " 10\n",
       "  8"
      ]
     },
     "execution_count": 1,
     "metadata": {},
     "output_type": "execute_result"
    }
   ],
   "source": [
    "x=rand(5:10,20)"
   ]
  },
  {
   "cell_type": "code",
   "execution_count": 4,
   "metadata": {},
   "outputs": [
    {
     "name": "stdout",
     "output_type": "stream",
     "text": [
      "1  81\n",
      "2  25\n",
      "3  25\n",
      "4  100\n",
      "5  49\n",
      "6  36\n",
      "7  25\n",
      "8  25\n",
      "9  49\n",
      "10  49\n"
     ]
    }
   ],
   "source": [
    "i=1 \n",
    "while i<=length(x)/2\n",
    "    \n",
    "    println(i, \"  \", x[i]^2)\n",
    "    i+=1\n",
    "    end\n",
    "\n",
    "#while es más útil cuando tienes comprobaciones o condiciones en paralelo"
   ]
  },
  {
   "cell_type": "code",
   "execution_count": 8,
   "metadata": {},
   "outputs": [
    {
     "name": "stdout",
     "output_type": "stream",
     "text": [
      "81\n",
      "25\n",
      "25\n",
      "100\n",
      "49\n",
      "36\n",
      "25\n",
      "25\n",
      "49\n",
      "49\n"
     ]
    }
   ],
   "source": [
    "for i=1:convert(Int, length(x)/2)\n",
    "    println(x[i]^2)\n",
    "end"
   ]
  },
  {
   "cell_type": "code",
   "execution_count": 9,
   "metadata": {},
   "outputs": [
    {
     "name": "stderr",
     "output_type": "stream",
     "text": [
      "\u001b[1m\u001b[36mINFO: \u001b[39m\u001b[22m\u001b[36mRecompiling stale cache file /home/guam/.julia/lib/v0.6/PyPlot.ji for module PyPlot.\n",
      "\u001b[39m"
     ]
    }
   ],
   "source": [
    "using PyPlot"
   ]
  },
  {
   "cell_type": "code",
   "execution_count": 2,
   "metadata": {},
   "outputs": [
    {
     "data": {
      "text/plain": [
       "50-element Array{Int64,1}:\n",
       "  1\n",
       "  2\n",
       "  3\n",
       "  4\n",
       "  5\n",
       "  6\n",
       "  7\n",
       "  8\n",
       "  9\n",
       " 10\n",
       " 11\n",
       " 12\n",
       " 13\n",
       "  ⋮\n",
       " 39\n",
       " 40\n",
       " 41\n",
       " 42\n",
       " 43\n",
       " 44\n",
       " 45\n",
       " 46\n",
       " 47\n",
       " 48\n",
       " 49\n",
       " 50"
      ]
     },
     "execution_count": 2,
     "metadata": {},
     "output_type": "execute_result"
    }
   ],
   "source": [
    "x = collect(1:1:50)"
   ]
  },
  {
   "cell_type": "code",
   "execution_count": 3,
   "metadata": {},
   "outputs": [
    {
     "data": {
      "text/plain": [
       "50-element Array{Float64,1}:\n",
       "  -8.44676\n",
       "  15.5695 \n",
       "  22.4047 \n",
       "  19.5304 \n",
       "  48.2313 \n",
       "  21.4588 \n",
       "  30.5737 \n",
       "  36.1383 \n",
       "  44.1411 \n",
       "  43.4757 \n",
       "  33.7696 \n",
       "  34.74   \n",
       "  40.9001 \n",
       "   ⋮      \n",
       " 146.237  \n",
       " 139.024  \n",
       " 129.045  \n",
       " 137.496  \n",
       " 119.6    \n",
       " 134.201  \n",
       " 128.586  \n",
       " 144.38   \n",
       " 150.387  \n",
       " 152.32   \n",
       " 159.33   \n",
       " 147.604  "
      ]
     },
     "execution_count": 3,
     "metadata": {},
     "output_type": "execute_result"
    }
   ],
   "source": [
    "y = 3*x+6\n",
    "ruido=randn(length(x))*10\n",
    "yruido= y + ruido"
   ]
  },
  {
   "cell_type": "code",
   "execution_count": 31,
   "metadata": {},
   "outputs": [
    {
     "data": {
      "image/png": "[encoded data removed]",
      "text/plain": [
       "PyPlot.Figure(PyObject <matplotlib.figure.Figure object at 0x7fc26c709a10>)"
      ]
     },
     "metadata": {},
     "output_type": "display_data"
    },
    {
     "data": {
      "text/plain": [
       "1-element Array{PyCall.PyObject,1}:\n",
       " PyObject <matplotlib.lines.Line2D object at 0x7fc26c195e50>"
      ]
     },
     "execution_count": 31,
     "metadata": {},
     "output_type": "execute_result"
    }
   ],
   "source": [
    "plot(x,yruido, \"o\")\n"
   ]
  },
  {
   "cell_type": "code",
   "execution_count": 8,
   "metadata": {},
   "outputs": [
    {
     "data": {
      "text/plain": [
       "(8.988158463008304, 2.9094909362659336)"
      ]
     },
     "execution_count": 8,
     "metadata": {},
     "output_type": "execute_result"
    }
   ],
   "source": [
    "a,b=linreg(x,yruido)\n",
    "#regresión lineal por default de Julia"
   ]
  },
  {
   "cell_type": "code",
   "execution_count": 40,
   "metadata": {},
   "outputs": [
    {
     "data": {
      "text/plain": [
       "50-element Array{Float64,1}:\n",
       "  10.8417\n",
       "  13.8068\n",
       "  16.7719\n",
       "  19.737 \n",
       "  22.7021\n",
       "  25.6672\n",
       "  28.6323\n",
       "  31.5974\n",
       "  34.5625\n",
       "  37.5276\n",
       "  40.4927\n",
       "  43.4578\n",
       "  46.4229\n",
       "   ⋮     \n",
       " 123.516 \n",
       " 126.481 \n",
       " 129.446 \n",
       " 132.411 \n",
       " 135.376 \n",
       " 138.341 \n",
       " 141.306 \n",
       " 144.271 \n",
       " 147.236 \n",
       " 150.201 \n",
       " 153.167 \n",
       " 156.132 "
      ]
     },
     "execution_count": 40,
     "metadata": {},
     "output_type": "execute_result"
    }
   ],
   "source": [
    "tend=a + b*x"
   ]
  },
  {
   "cell_type": "code",
   "execution_count": 41,
   "metadata": {},
   "outputs": [
    {
     "data": {
      "image/png": "[encoded data removed]",
      "text/plain": [
       "PyPlot.Figure(PyObject <matplotlib.figure.Figure object at 0x7fc26bd22090>)"
      ]
     },
     "metadata": {},
     "output_type": "display_data"
    },
    {
     "data": {
      "text/plain": [
       "1-element Array{PyCall.PyObject,1}:\n",
       " PyObject <matplotlib.lines.Line2D object at 0x7fc26bd12c50>"
      ]
     },
     "execution_count": 41,
     "metadata": {},
     "output_type": "execute_result"
    }
   ],
   "source": [
    "plot(x,yruido,\"o\")\n",
    "plot(x,tend)\n",
    "plot(x,y,\"--\")"
   ]
  },
  {
   "cell_type": "code",
   "execution_count": 49,
   "metadata": {},
   "outputs": [
    {
     "data": {
      "text/plain": [
       "1.107785450846518"
      ]
     },
     "execution_count": 49,
     "metadata": {},
     "output_type": "execute_result"
    }
   ],
   "source": [
    "rms=sqrt(sum((y-tend).^2)/50)"
   ]
  },
  {
   "cell_type": "code",
   "execution_count": 16,
   "metadata": {},
   "outputs": [
    {
     "data": {
      "text/plain": [
       "qwerty (generic function with 1 method)"
      ]
     },
     "execution_count": 16,
     "metadata": {},
     "output_type": "execute_result"
    }
   ],
   "source": [
    "function qwerty(x,y)\n",
    "    #Calcula la regresión lineal\n",
    "    sxc=sum(x.^2)\n",
    "    sx=sum(x)\n",
    "    sy=sum(y)\n",
    "    sxy=sum(x.*y)\n",
    "    delta=length(x)*sxc-(sx).^2\n",
    "    A=((sxc*sy)-(sx*sxy))/delta\n",
    "    B=((length(x)*sxy)-(sx*sy))/delta\n",
    "    ynueva=A+B.*x\n",
    "    rms=sqrt(sum((y-ynueva).^2)/length(x))\n",
    "    return A,B,rms\n",
    "end"
   ]
  },
  {
   "cell_type": "code",
   "execution_count": 15,
   "metadata": {},
   "outputs": [
    {
     "ename": "LoadError",
     "evalue": "DomainError:",
     "output_type": "error",
     "traceback": [
      "DomainError:",
      "",
      "Stacktrace:",
      " [1] \u001b[1mqwerty\u001b[22m\u001b[22m\u001b[1m(\u001b[22m\u001b[22m::Array{Int64,1}, ::Array{Float64,1}\u001b[1m)\u001b[22m\u001b[22m at \u001b[1m./In[14]:11\u001b[22m\u001b[22m",
      " [2] \u001b[1minclude_string\u001b[22m\u001b[22m\u001b[1m(\u001b[22m\u001b[22m::String, ::String\u001b[1m)\u001b[22m\u001b[22m at \u001b[1m./loading.jl:515\u001b[22m\u001b[22m"
     ]
    }
   ],
   "source": [
    "qwerty(x,yruido)\n",
    "#a,b,rms, r cuadrada\n",
    "\n",
    "\n",
    "#TAREA ESCRIBIR UN MARKDOWN CON LA DESCRIPCIÓN\n",
    "#EXPLICAR\n",
    "#PONER FUNCIONES\n",
    "#PONER FUNCION\n",
    "#GENERAR DATOS Y PONER EJEMPLO"
   ]
  },
  {
   "cell_type": "code",
   "execution_count": null,
   "metadata": {
    "collapsed": true
   },
   "outputs": [],
   "source": [
    "#subir cosas a programacion\n",
    "\n",
    "#se abre la carpeta clonada\n",
    "#git pull origin master\n",
    "#git add -A\n",
    "#git commit -m \"(Comentario)New Naivy\"\n",
    "#git push origin master"
   ]
  }
 ],
 "metadata": {
  "kernelspec": {
   "display_name": "Julia 0.6.0",
   "language": "julia",
   "name": "julia-0.6"
  },
  "language_info": {
   "file_extension": ".jl",
   "mimetype": "application/julia",
   "name": "julia",
   "version": "0.6.0"
  }
 },
 "nbformat": 4,
 "nbformat_minor": 2
}
