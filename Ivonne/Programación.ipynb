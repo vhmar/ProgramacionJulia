{
 "cells": [
  {
   "cell_type": "code",
   "execution_count": 2,
   "metadata": {
    "collapsed": false
   },
   "outputs": [
    {
     "data": {
      "text/plain": [
       "20-element Array{Int64,1}:\n",
       "  1\n",
       "  2\n",
       "  3\n",
       "  4\n",
       "  5\n",
       "  6\n",
       "  7\n",
       "  8\n",
       "  9\n",
       " 10\n",
       " 11\n",
       " 12\n",
       " 13\n",
       " 14\n",
       " 15\n",
       " 16\n",
       " 17\n",
       " 18\n",
       " 19\n",
       " 20"
      ]
     },
     "execution_count": 2,
     "metadata": {},
     "output_type": "execute_result"
    }
   ],
   "source": [
    "list = collect(1:1:20) #Vector de 1 a 20 "
   ]
  },
  {
   "cell_type": "code",
   "execution_count": 5,
   "metadata": {
    "collapsed": false
   },
   "outputs": [
    {
     "name": "stdout",
     "output_type": "stream",
     "text": [
      "4\n",
      "16\n",
      "36\n",
      "64\n",
      "100\n",
      "144\n",
      "196\n",
      "256\n",
      "324\n",
      "400\n"
     ]
    }
   ],
   "source": [
    "for i=1:length(list) #Para sacar el cuadrado de sólo los pares.. pero no está bien\n",
    "    if mod(i,2) == 0\n",
    "        println(i^2)\n",
    "    end\n",
    "end"
   ]
  },
  {
   "cell_type": "code",
   "execution_count": 17,
   "metadata": {
    "collapsed": false
   },
   "outputs": [],
   "source": [
    "list2= rand(1:20,20);"
   ]
  },
  {
   "cell_type": "code",
   "execution_count": 19,
   "metadata": {
    "collapsed": false
   },
   "outputs": [
    {
     "name": "stdout",
     "output_type": "stream",
     "text": [
      " Soy i: 9  Soy list: 6 Soy Cuad36\n",
      " Soy i: 20  Soy list: 4 Soy Cuad16\n",
      " Soy i: 16  Soy list: 4 Soy Cuad16\n",
      " Soy i: 7  Soy list: 16 Soy Cuad256\n",
      " Soy i: 16  Soy list: 4 Soy Cuad16\n",
      " Soy i: 14  Soy list: 18 Soy Cuad324\n",
      " Soy i: 8  Soy list: 14 Soy Cuad196\n",
      " Soy i: 4  Soy list: 16 Soy Cuad256\n",
      " Soy i: 8  Soy list: 14 Soy Cuad196\n",
      " Soy i: 4  Soy list: 16 Soy Cuad256\n"
     ]
    }
   ],
   "source": [
    "for i in list2 #Para que tome todos los números de la lista aún si están en orden\n",
    "    if mod(list2[i],2) == 0 #Si i es par, sacar cuadrado\n",
    "        println(\" Soy i: \",i,\"  \", \"Soy list: \", list2[i], \" \", \"Soy Cuad\", list2[i]^2) #Para que muestre la lista, los elementos\n",
    "    end\n",
    "end"
   ]
  },
  {
   "cell_type": "code",
   "execution_count": 21,
   "metadata": {
    "collapsed": false
   },
   "outputs": [
    {
     "name": "stdout",
     "output_type": "stream",
     "text": [
      "196\n",
      "256\n",
      "100\n",
      "196\n",
      "400\n",
      "256\n",
      "400\n",
      "256\n",
      "400\n",
      "324\n"
     ]
    }
   ],
   "source": [
    "for i in list\n",
    "    if mod(i,2) == 0\n",
    "        println(i^2)\n",
    "    end\n",
    "end"
   ]
  },
  {
   "cell_type": "code",
   "execution_count": 26,
   "metadata": {
    "collapsed": false
   },
   "outputs": [
    {
     "data": {
      "text/plain": [
       "10-element Array{Int64,1}:\n",
       " 60\n",
       " 51\n",
       " 57\n",
       " 57\n",
       " 50\n",
       " 59\n",
       " 51\n",
       " 59\n",
       " 52\n",
       " 59"
      ]
     },
     "execution_count": 26,
     "metadata": {},
     "output_type": "execute_result"
    }
   ],
   "source": [
    "L= rand(50:60,10)"
   ]
  },
  {
   "cell_type": "code",
   "execution_count": 34,
   "metadata": {
    "collapsed": false
   },
   "outputs": [
    {
     "name": "stdout",
     "output_type": "stream",
     "text": [
      "3600\n",
      "2500\n",
      "2704\n"
     ]
    }
   ],
   "source": [
    "for i in L\n",
    "    if mod(i,2) == 0\n",
    "        println(i^2)\n",
    "    end\n",
    "end\n"
   ]
  },
  {
   "cell_type": "code",
   "execution_count": 31,
   "metadata": {
    "collapsed": false
   },
   "outputs": [
    {
     "name": "stdout",
     "output_type": "stream",
     "text": [
      "132651\n",
      "185193\n",
      "185193\n",
      "205379\n",
      "132651\n",
      "205379\n",
      "205379\n"
     ]
    }
   ],
   "source": [
    "for i in L\n",
    "    if mod(i,2) == 1\n",
    "        println(i^3)\n",
    "    end\n",
    "end"
   ]
  },
  {
   "cell_type": "code",
   "execution_count": 35,
   "metadata": {
    "collapsed": false
   },
   "outputs": [
    {
     "name": "stdout",
     "output_type": "stream",
     "text": [
      "Par60 Cuad3600\n",
      "Impar51 Cubo132651\n",
      "Impar57 Cubo185193\n",
      "Impar57 Cubo185193\n",
      "Par50 Cuad2500\n",
      "Impar59 Cubo205379\n",
      "Impar51 Cubo132651\n",
      "Impar59 Cubo205379\n",
      "Par52 Cuad2704\n",
      "Impar59 Cubo205379\n"
     ]
    }
   ],
   "source": [
    "#En un sólo if\n",
    "for i in L\n",
    "    if mod(i,2) == 0 #También se puede escribir como <1 o != 1\n",
    "        println(\"Par\" ,i, \" \", \"Cuad\", i^2)\n",
    "    else\n",
    "        println(\"Impar\",i, \" \", \"Cubo\", i^3)\n",
    "    end\n",
    "end"
   ]
  },
  {
   "cell_type": "code",
   "execution_count": 59,
   "metadata": {
    "collapsed": false
   },
   "outputs": [],
   "source": [
    "#Hacer un vector : 20 elemtentos aleatorios entre 10 y 20 y checar si el elemento es múltiplo de 2, que sea igual a 5\n",
    "Vec=rand(10:20,20);"
   ]
  },
  {
   "cell_type": "code",
   "execution_count": 63,
   "metadata": {
    "collapsed": false
   },
   "outputs": [
    {
     "name": "stdout",
     "output_type": "stream",
     "text": [
      "M14 C5\n",
      "M14 C5\n",
      "M16 C5\n",
      "M18 C5\n",
      "M14 C5\n",
      "M20 C5\n",
      "M16 C5\n",
      "M20 C5\n",
      "M16 C5\n",
      "M14 C5\n"
     ]
    }
   ],
   "source": [
    "for i in Vec\n",
    "    if mod(i,2) == 0\n",
    "        println(\"M\",i, \" \" ,\"C\",5);\n",
    "    end\n",
    "end"
   ]
  },
  {
   "cell_type": "code",
   "execution_count": 72,
   "metadata": {
    "collapsed": false
   },
   "outputs": [
    {
     "name": "stdout",
     "output_type": "stream",
     "text": [
      "M2 5C5\n",
      "M4 5C5\n",
      "M6 5C5\n",
      "M8 5C5\n",
      "M10 5C5\n",
      "M12 5C5\n",
      "M14 5C5\n",
      "M16 5C5\n",
      "M18 5C5\n",
      "M20 5C5\n"
     ]
    }
   ],
   "source": [
    "for i=1:length(Vec) \n",
    "    if mod(i,2) == 0\n",
    "        nv = Vec[i]\n",
    "        Vec[i] = 5 #Para que cambie los valores del vector original\n",
    "        println(\"M\",i, \" \", nv, \"C\", Vec[i]) \n",
    "    end\n",
    "end"
   ]
  },
  {
   "cell_type": "code",
   "execution_count": 75,
   "metadata": {
    "collapsed": false
   },
   "outputs": [],
   "source": [
    "Vec2= rand(50:60,20);"
   ]
  },
  {
   "cell_type": "code",
   "execution_count": 86,
   "metadata": {
    "collapsed": false
   },
   "outputs": [],
   "source": [
    "#jj = 1 #Contador jjc+=1 es igual a jj=jj+1\n",
    "#for in Vec2\n",
    " #   if mod(i,2) == 0\n",
    "  #      nv2=i\n",
    "   #     Vec2[jj] = 5\n",
    "    #    println(\"M\",jj, \" \", nv, \"C\", Vec[jj])\n",
    "   # end\n",
    "  #  jj+= 1\n",
    "#end"
   ]
  },
  {
   "cell_type": "code",
   "execution_count": 77,
   "metadata": {
    "collapsed": false
   },
   "outputs": [
    {
     "data": {
      "text/plain": [
       "3×3 Array{Int64,2}:\n",
       " 10  10  10\n",
       " 10  17  16\n",
       " 19  11  17"
      ]
     },
     "execution_count": 77,
     "metadata": {},
     "output_type": "execute_result"
    }
   ],
   "source": [
    "Matriz1= rand(10:20,3,3) #Crear matriz de 3x3"
   ]
  },
  {
   "cell_type": "code",
   "execution_count": 82,
   "metadata": {
    "collapsed": false
   },
   "outputs": [
    {
     "data": {
      "text/plain": [
       "17"
      ]
     },
     "execution_count": 82,
     "metadata": {},
     "output_type": "execute_result"
    }
   ],
   "source": [
    "Matriz1[2,2] #Extraer elemento de la relgón 2, columna 2"
   ]
  },
  {
   "cell_type": "code",
   "execution_count": 120,
   "metadata": {
    "collapsed": false
   },
   "outputs": [
    {
     "data": {
      "text/plain": [
       "10×10 Array{Int64,2}:\n",
       " 26  20  22  29  19  14  24  23  27  21\n",
       " 19  16  27  23  11  11  11  24  21  20\n",
       " 28  24  25  29  17  15  17  28  30  23\n",
       " 20  15  17  20  20  18  26  10  24  13\n",
       " 16  18  20  29  15  27  20  22  12  17\n",
       " 12  18  11  20  10  27  25  12  26  23\n",
       " 25  22  13  22  24  22  20  12  26  11\n",
       " 19  21  19  26  13  26  16  28  15  22\n",
       " 23  29  18  20  20  11  13  14  19  14\n",
       " 29  26  11  16  28  22  10  30  10  14"
      ]
     },
     "execution_count": 120,
     "metadata": {},
     "output_type": "execute_result"
    }
   ],
   "source": [
    "Mz2 = rand(10:30,10,10)"
   ]
  },
  {
   "cell_type": "code",
   "execution_count": 121,
   "metadata": {
    "collapsed": false
   },
   "outputs": [],
   "source": [
    "for i=1:length(Mz2[:,1])\n",
    "    for j=1:length(Mz2[1,:])\n",
    "        if mod(Mz2[i,j],2) == 0\n",
    "            Mz2[i,j] = 5\n",
    "        end\n",
    "        if i==j\n",
    "                Mz2[i,j] = 100\n",
    "        end\n",
    "    end\n",
    "end\n",
    "            \n",
    "#Todos los números pares de la matriz igual a 5 y los elementos de la diagonal igual a 100           "
   ]
  },
  {
   "cell_type": "code",
   "execution_count": 122,
   "metadata": {
    "collapsed": false
   },
   "outputs": [
    {
     "data": {
      "text/plain": [
       "10×10 Array{Int64,2}:\n",
       " 100    5    5   29   19    5    5   23   27   21\n",
       "  19  100   27   23   11   11   11    5   21    5\n",
       "   5    5  100   29   17   15   17    5    5   23\n",
       "   5   15   17  100    5    5    5    5    5   13\n",
       "   5    5    5   29  100   27    5    5    5   17\n",
       "   5    5   11    5    5  100   25    5    5   23\n",
       "  25    5   13    5    5    5  100    5    5   11\n",
       "  19   21   19    5   13    5    5  100   15    5\n",
       "  23   29    5    5    5   11   13    5  100    5\n",
       "  29    5   11    5    5    5    5    5    5  100"
      ]
     },
     "execution_count": 122,
     "metadata": {},
     "output_type": "execute_result"
    }
   ],
   "source": [
    "Mz2"
   ]
  },
  {
   "cell_type": "code",
   "execution_count": 125,
   "metadata": {
    "collapsed": false
   },
   "outputs": [
    {
     "data": {
      "text/plain": [
       "5×5 Array{String,2}:\n",
       " \"Julia\"  \"Julia\"  \"Julia\"  \"Julia\"  \"Julia\"\n",
       " \"Julia\"  \"Julia\"  \"Julia\"  \"Julia\"  \"Julia\"\n",
       " \"Julia\"  \"Julia\"  \"Julia\"  \"Julia\"  \"Julia\"\n",
       " \"Julia\"  \"Julia\"  \"Julia\"  \"Julia\"  \"Julia\"\n",
       " \"Julia\"  \"Julia\"  \"Julia\"  \"Julia\"  \"Julia\""
      ]
     },
     "execution_count": 125,
     "metadata": {},
     "output_type": "execute_result"
    }
   ],
   "source": [
    "A = fill(\"Julia\",5,5) #Arreglo de strings"
   ]
  },
  {
   "cell_type": "code",
   "execution_count": 130,
   "metadata": {
    "collapsed": false
   },
   "outputs": [
    {
     "ename": "LoadError",
     "evalue": "\u001b[91mUndefVarError: 🍌 not defined\u001b[39m",
     "output_type": "error",
     "traceback": [
      "\u001b[91mUndefVarError: 🍌 not defined\u001b[39m",
      "",
      "Stacktrace:",
      " [1] \u001b[1minclude_string\u001b[22m\u001b[22m\u001b[1m(\u001b[22m\u001b[22m::String, ::String\u001b[1m)\u001b[22m\u001b[22m at \u001b[1m.\\loading.jl:515\u001b[22m\u001b[22m"
     ]
    }
   ],
   "source": [
    "eleph= \"🐘\"\n",
    "🍌\n",
    "🐶\n",
    "🐦\n",
    "🐍\n",
    "🌔\n",
    "😄\n",
    "😠\n",
    "🐊\n",
    "🐟\n",
    "🐻\n",
    "🐴\n",
    "🐰\n",
    "🐭\n",
    "🐺\n",
    "🐬\n",
    "🍎\n",
    "🍓\n",
    "🐱"
   ]
  },
  {
   "cell_type": "code",
   "execution_count": 21,
   "metadata": {
    "collapsed": true
   },
   "outputs": [],
   "source": [
    "H= rand(10:20,10);"
   ]
  },
  {
   "cell_type": "code",
   "execution_count": 10,
   "metadata": {
    "collapsed": false
   },
   "outputs": [
    {
     "data": {
      "text/plain": [
       "Prom (generic function with 1 method)"
      ]
     },
     "execution_count": 10,
     "metadata": {},
     "output_type": "execute_result"
    }
   ],
   "source": [
    "function Prom(x)\n",
    "    sum= 0\n",
    "    for i=1:length(x)\n",
    "        sum = sum + x[i]\n",
    "    end\n",
    "    PromFin= sum/length(x)    \n",
    "end"
   ]
  },
  {
   "cell_type": "code",
   "execution_count": 11,
   "metadata": {
    "collapsed": false
   },
   "outputs": [
    {
     "data": {
      "text/plain": [
       "14.6"
      ]
     },
     "execution_count": 11,
     "metadata": {},
     "output_type": "execute_result"
    }
   ],
   "source": [
    "Prom(H)"
   ]
  },
  {
   "cell_type": "code",
   "execution_count": 16,
   "metadata": {
    "collapsed": false
   },
   "outputs": [
    {
     "data": {
      "text/plain": [
       "DE (generic function with 1 method)"
      ]
     },
     "execution_count": 16,
     "metadata": {},
     "output_type": "execute_result"
    }
   ],
   "source": [
    "function DE(x)\n",
    "   sum=0\n",
    "    P=Prom(x)\n",
    "    for i=1:length(x)\n",
    "        sum= sum(x[i]-P^2)/length(x)\n",
    "        dv=sqrt(sum)\n",
    "    end\n",
    "end\n",
    "        "
   ]
  },
  {
   "cell_type": "code",
   "execution_count": null,
   "metadata": {
    "collapsed": false
   },
   "outputs": [],
   "source": []
  },
  {
   "cell_type": "markdown",
   "metadata": {},
   "source": [
    "$\\sigma = \\sqrt(∑\\frac{x_i-\\bar{x}^2}{N})$\n"
   ]
  },
  {
   "cell_type": "code",
   "execution_count": 18,
   "metadata": {
    "collapsed": false
   },
   "outputs": [
    {
     "data": {
      "text/plain": [
       "PEst (generic function with 1 method)"
      ]
     },
     "execution_count": 18,
     "metadata": {},
     "output_type": "execute_result"
    }
   ],
   "source": [
    "#función argumentos de resultado: promedio y desviación estándar\n",
    "function PEst(x)\n",
    "    su=0\n",
    "    for i=1:length(x)\n",
    "        su=su+x[i]\n",
    "    end\n",
    "    ru=0\n",
    "    for i=1:length(x)\n",
    "        ru=(x[i]-(su/length(x)))^2+ru\n",
    "    end\n",
    "    PEstfin(x)=su/length,sqrt(ru/(length(x)-1))\n",
    "end\n",
    "        "
   ]
  },
  {
   "cell_type": "code",
   "execution_count": 20,
   "metadata": {
    "collapsed": false
   },
   "outputs": [
    {
     "data": {
      "text/plain": [
       "(::PEstfin) (generic function with 1 method)"
      ]
     },
     "execution_count": 20,
     "metadata": {},
     "output_type": "execute_result"
    }
   ],
   "source": []
  },
  {
   "cell_type": "code",
   "execution_count": null,
   "metadata": {
    "collapsed": true
   },
   "outputs": [],
   "source": []
  }
 ],
 "metadata": {
  "anaconda-cloud": {},
  "kernelspec": {
   "display_name": "Julia 0.6.0",
   "language": "julia",
   "name": "julia-0.6"
  },
  "language_info": {
   "file_extension": ".jl",
   "mimetype": "application/julia",
   "name": "julia",
   "version": "0.6.0"
  }
 },
 "nbformat": 4,
 "nbformat_minor": 1
}
