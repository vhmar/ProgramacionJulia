{
 "cells": [
  {
   "cell_type": "markdown",
   "metadata": {},
   "source": [
    "<img src=\"jupyter.png\" align=\"right\" style=\"width:200px\">\n",
    "<img src=\"julia.png\" align=\"left\" style=\"width:200px\">"
   ]
  },
  {
   "cell_type": "code",
   "execution_count": 1,
   "metadata": {},
   "outputs": [
    {
     "data": {
      "text/plain": [
       "\"\""
      ]
     },
     "execution_count": 1,
     "metadata": {},
     "output_type": "execute_result"
    }
   ],
   "source": [
    "ENV[\"PYTHON\"]=\"\""
   ]
  },
  {
   "cell_type": "markdown",
   "metadata": {},
   "source": [
    "# Recursos Online\n",
    "\n",
    "\n",
    "### [Pagina oficial - julialang.org ](https://julialang.org/)\n",
    "\n",
    "### [Intro-Wiki](https://en.wikibooks.org/wiki/Introducing_Julia)\n",
    "\n",
    "### [YouTube](https://www.youtube.com/user/JuliaLanguage)\n",
    "\n",
    "### [Jupyter](http://jupyter.org/)\n",
    "\n",
    "### [JuliaBox](https://juliabox.com/)\n",
    "\n",
    "\n",
    "<img src=\"codecode.jpg\" style=\"width:300px\">\n",
    "\n",
    "\n"
   ]
  },
  {
   "cell_type": "code",
   "execution_count": 2,
   "metadata": {},
   "outputs": [
    {
     "name": "stdout",
     "output_type": "stream",
     "text": [
      "Julia Version 0.6.0\n",
      "Commit 9036443 (2017-06-19 13:05 UTC)\n",
      "Platform Info:\n",
      "  OS: Linux (x86_64-pc-linux-gnu)\n",
      "  CPU: Intel(R) Core(TM) i7-6700HQ CPU @ 2.60GHz\n",
      "  WORD_SIZE: 64\n",
      "  BLAS: libopenblas (USE64BITINT DYNAMIC_ARCH NO_AFFINITY Haswell)\n",
      "  LAPACK: libopenblas64_\n",
      "  LIBM: libopenlibm\n",
      "  LLVM: libLLVM-3.9.1 (ORCJIT, skylake)\n"
     ]
    }
   ],
   "source": [
    "versioninfo()"
   ]
  },
  {
   "cell_type": "markdown",
   "metadata": {},
   "source": [
    "<img src=\"Type-hierarchy-for-julia-numbers.png\" style=\"width:1000px\">"
   ]
  },
  {
   "cell_type": "code",
   "execution_count": 6,
   "metadata": {},
   "outputs": [
    {
     "data": {
      "text/plain": [
       "Float64"
      ]
     },
     "execution_count": 6,
     "metadata": {},
     "output_type": "execute_result"
    }
   ],
   "source": [
    "typeof(1.0)"
   ]
  },
  {
   "cell_type": "code",
   "execution_count": 7,
   "metadata": {},
   "outputs": [
    {
     "data": {
      "text/plain": [
       "Int64"
      ]
     },
     "execution_count": 7,
     "metadata": {},
     "output_type": "execute_result"
    }
   ],
   "source": [
    "typeof(1)"
   ]
  },
  {
   "cell_type": "code",
   "execution_count": 15,
   "metadata": {},
   "outputs": [
    {
     "data": {
      "text/plain": [
       "\"Hola JuLia\""
      ]
     },
     "execution_count": 15,
     "metadata": {},
     "output_type": "execute_result"
    }
   ],
   "source": [
    "S = \"Hola JuLia\""
   ]
  },
  {
   "cell_type": "code",
   "execution_count": 16,
   "metadata": {},
   "outputs": [
    {
     "data": {
      "text/plain": [
       "\"Hola Julia\""
      ]
     },
     "execution_count": 16,
     "metadata": {},
     "output_type": "execute_result"
    }
   ],
   "source": [
    "replace(S,\"L\",\"l\")"
   ]
  },
  {
   "cell_type": "code",
   "execution_count": 4,
   "metadata": {},
   "outputs": [
    {
     "data": {
      "text/plain": [
       "\"Hola Hola Julia\""
      ]
     },
     "execution_count": 4,
     "metadata": {},
     "output_type": "execute_result"
    }
   ],
   "source": [
    "string(S,\" \", S, \" \",\"Julia\")"
   ]
  },
  {
   "cell_type": "code",
   "execution_count": 5,
   "metadata": {},
   "outputs": [
    {
     "data": {
      "text/plain": [
       "10×10 Array{String,2}:\n",
       " \"Julia\"  \"Julia\"  \"Julia\"  \"Julia\"  …  \"Julia\"  \"Julia\"  \"Julia\"  \"Julia\"\n",
       " \"Julia\"  \"Julia\"  \"Julia\"  \"Julia\"     \"Julia\"  \"Julia\"  \"Julia\"  \"Julia\"\n",
       " \"Julia\"  \"Julia\"  \"Julia\"  \"Julia\"     \"Julia\"  \"Julia\"  \"Julia\"  \"Julia\"\n",
       " \"Julia\"  \"Julia\"  \"Julia\"  \"Julia\"     \"Julia\"  \"Julia\"  \"Julia\"  \"Julia\"\n",
       " \"Julia\"  \"Julia\"  \"Julia\"  \"Julia\"     \"Julia\"  \"Julia\"  \"Julia\"  \"Julia\"\n",
       " \"Julia\"  \"Julia\"  \"Julia\"  \"Julia\"  …  \"Julia\"  \"Julia\"  \"Julia\"  \"Julia\"\n",
       " \"Julia\"  \"Julia\"  \"Julia\"  \"Julia\"     \"Julia\"  \"Julia\"  \"Julia\"  \"Julia\"\n",
       " \"Julia\"  \"Julia\"  \"Julia\"  \"Julia\"     \"Julia\"  \"Julia\"  \"Julia\"  \"Julia\"\n",
       " \"Julia\"  \"Julia\"  \"Julia\"  \"Julia\"     \"Julia\"  \"Julia\"  \"Julia\"  \"Julia\"\n",
       " \"Julia\"  \"Julia\"  \"Julia\"  \"Julia\"     \"Julia\"  \"Julia\"  \"Julia\"  \"Julia\""
      ]
     },
     "execution_count": 5,
     "metadata": {},
     "output_type": "execute_result"
    }
   ],
   "source": [
    "A = fill(\"Julia\",10,10)"
   ]
  },
  {
   "cell_type": "code",
   "execution_count": 1,
   "metadata": {},
   "outputs": [
    {
     "data": {
      "text/plain": [
       "7×7 Array{String,2}:\n",
       " \"😺\"  \"✈\"  \"😺\"  \"🐻\"  \"👽\"  \"🐻\"  \"🐻\"\n",
       " \"✈\"  \"✈\"  \"✈\"  \"✈\"  \"😺\"  \"😺\"  \"😺\"\n",
       " \"👽\"  \"😺\"  \"😺\"  \"✈\"  \"✈\"  \"😺\"  \"✈\"\n",
       " \"✈\"  \"🐻\"  \"🐻\"  \"😺\"  \"🐻\"  \"✈\"  \"😺\"\n",
       " \"🐻\"  \"😺\"  \"👽\"  \"🐻\"  \"✈\"  \"🐻\"  \"👽\"\n",
       " \"😺\"  \"🐻\"  \"🐻\"  \"😺\"  \"😺\"  \"😺\"  \"😺\"\n",
       " \"🐻\"  \"🐻\"  \"🐻\"  \"✈\"  \"🐻\"  \"😺\"  \"✈\""
      ]
     },
     "execution_count": 1,
     "metadata": {},
     "output_type": "execute_result"
    }
   ],
   "source": [
    "airplane = \"✈\" \n",
    "alien = \"👽\"\n",
    "smile = \"😺\"\n",
    "be = \"🐻\" \n",
    "rand( [be,airplane,alien,smile],7,7)"
   ]
  },
  {
   "cell_type": "code",
   "execution_count": 19,
   "metadata": {},
   "outputs": [
    {
     "data": {
      "text/plain": [
       "5×5 Array{Float64,2}:\n",
       " 0.0  0.0  0.0  0.0  0.0\n",
       " 0.0  0.0  0.0  0.0  0.0\n",
       " 0.0  0.0  0.0  0.0  0.0\n",
       " 0.0  0.0  0.0  0.0  0.0\n",
       " 0.0  0.0  0.0  0.0  0.0"
      ]
     },
     "execution_count": 19,
     "metadata": {},
     "output_type": "execute_result"
    }
   ],
   "source": [
    "fill(0.0,5,5)"
   ]
  },
  {
   "cell_type": "code",
   "execution_count": null,
   "metadata": {
    "collapsed": true
   },
   "outputs": [],
   "source": []
  }
 ],
 "metadata": {
  "kernelspec": {
   "display_name": "Julia 0.6.0",
   "language": "julia",
   "name": "julia-0.6"
  },
  "language_info": {
   "file_extension": ".jl",
   "mimetype": "application/julia",
   "name": "julia",
   "version": "0.6.0"
  }
 },
 "nbformat": 4,
 "nbformat_minor": 2
}
